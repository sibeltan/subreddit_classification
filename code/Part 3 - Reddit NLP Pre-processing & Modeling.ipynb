{
 "cells": [
  {
   "cell_type": "markdown",
   "metadata": {},
   "source": [
    "# Part 3 - Reddit NLP Pre-processing & Modeling"
   ]
  },
  {
   "cell_type": "markdown",
   "metadata": {},
   "source": [
    "This notebook will focus on using Natural Language Processing to train a classifier on predicting whether a given post came from Anticonsumption subreddit or Minimalism subreddit."
   ]
  },
  {
   "cell_type": "code",
   "execution_count": 296,
   "metadata": {},
   "outputs": [],
   "source": [
    "# Imports\n",
    "import pandas as pd\n",
    "import numpy as np\n",
    "import matplotlib.pyplot as plt\n",
    "import seaborn as sns\n",
    "\n",
    "from sklearn.model_selection import train_test_split, GridSearchCV\n",
    "from sklearn.feature_extraction.text import CountVectorizer, TfidfVectorizer, TfidfTransformer, ENGLISH_STOP_WORDS\n",
    "from sklearn.linear_model import LogisticRegression\n",
    "from sklearn.naive_bayes import MultinomialNB, GaussianNB\n",
    "from sklearn.metrics import confusion_matrix, accuracy_score, classification\n",
    "from sklearn.neighbors import KNeighborsClassifier\n",
    "from sklearn.tree import DecisionTreeClassifier\n",
    "from sklearn.ensemble import RandomForestClassifier\n",
    "from sklearn.pipeline import Pipeline, FeatureUnion\n",
    "from sklearn.preprocessing import StandardScaler, FunctionTransformer\n",
    "\n",
    "import nltk\n",
    "from nltk.stem import WordNetLemmatizer\n",
    "lemmatizer = WordNetLemmatizer()\n",
    "\n",
    "import regex as re\n",
    "\n",
    "from bs4 import BeautifulSoup"
   ]
  },
  {
   "cell_type": "code",
   "execution_count": 297,
   "metadata": {},
   "outputs": [],
   "source": [
    "import warnings\n",
    "warnings.filterwarnings('ignore')"
   ]
  },
  {
   "cell_type": "markdown",
   "metadata": {},
   "source": [
    "### Reading the data"
   ]
  },
  {
   "cell_type": "code",
   "execution_count": 298,
   "metadata": {},
   "outputs": [],
   "source": [
    "# read the subreddit posts file\n",
    "subreddit_posts_df = pd.read_csv('./csv_folder/combined_subreddits.csv')"
   ]
  },
  {
   "cell_type": "code",
   "execution_count": 299,
   "metadata": {},
   "outputs": [
    {
     "data": {
      "text/html": [
       "<div>\n",
       "<style scoped>\n",
       "    .dataframe tbody tr th:only-of-type {\n",
       "        vertical-align: middle;\n",
       "    }\n",
       "\n",
       "    .dataframe tbody tr th {\n",
       "        vertical-align: top;\n",
       "    }\n",
       "\n",
       "    .dataframe thead th {\n",
       "        text-align: right;\n",
       "    }\n",
       "</style>\n",
       "<table border=\"1\" class=\"dataframe\">\n",
       "  <thead>\n",
       "    <tr style=\"text-align: right;\">\n",
       "      <th></th>\n",
       "      <th>subreddit</th>\n",
       "      <th>title</th>\n",
       "      <th>body</th>\n",
       "      <th>created</th>\n",
       "      <th>total_comments</th>\n",
       "      <th>total_upvotes</th>\n",
       "      <th>target</th>\n",
       "      <th>num_title_words</th>\n",
       "      <th>num_title_chars</th>\n",
       "      <th>sentiment</th>\n",
       "    </tr>\n",
       "  </thead>\n",
       "  <tbody>\n",
       "    <tr>\n",
       "      <td>0</td>\n",
       "      <td>Anticonsumption</td>\n",
       "      <td>Great idea</td>\n",
       "      <td>thisisablankpost</td>\n",
       "      <td>2019-10-12 19:26:23</td>\n",
       "      <td>0</td>\n",
       "      <td>3</td>\n",
       "      <td>1</td>\n",
       "      <td>2</td>\n",
       "      <td>10</td>\n",
       "      <td>0.6249</td>\n",
       "    </tr>\n",
       "    <tr>\n",
       "      <td>1</td>\n",
       "      <td>Anticonsumption</td>\n",
       "      <td>Erik put a straw through his sippy cup. Dont' ...</td>\n",
       "      <td>thisisablankpost</td>\n",
       "      <td>2019-10-12 17:23:52</td>\n",
       "      <td>5</td>\n",
       "      <td>1</td>\n",
       "      <td>1</td>\n",
       "      <td>12</td>\n",
       "      <td>59</td>\n",
       "      <td>-0.2755</td>\n",
       "    </tr>\n",
       "    <tr>\n",
       "      <td>2</td>\n",
       "      <td>Anticonsumption</td>\n",
       "      <td>Why, just why?</td>\n",
       "      <td>thisisablankpost</td>\n",
       "      <td>2019-10-12 17:13:44</td>\n",
       "      <td>0</td>\n",
       "      <td>0</td>\n",
       "      <td>1</td>\n",
       "      <td>3</td>\n",
       "      <td>14</td>\n",
       "      <td>0.0000</td>\n",
       "    </tr>\n",
       "    <tr>\n",
       "      <td>3</td>\n",
       "      <td>Anticonsumption</td>\n",
       "      <td>Local pho shop smooths edges of chipped bowls ...</td>\n",
       "      <td>thisisablankpost</td>\n",
       "      <td>2019-10-12 15:34:28</td>\n",
       "      <td>7</td>\n",
       "      <td>166</td>\n",
       "      <td>1</td>\n",
       "      <td>12</td>\n",
       "      <td>67</td>\n",
       "      <td>0.0000</td>\n",
       "    </tr>\n",
       "    <tr>\n",
       "      <td>4</td>\n",
       "      <td>Anticonsumption</td>\n",
       "      <td>Have to agree.</td>\n",
       "      <td>thisisablankpost</td>\n",
       "      <td>2019-10-12 13:44:49</td>\n",
       "      <td>1</td>\n",
       "      <td>39</td>\n",
       "      <td>1</td>\n",
       "      <td>3</td>\n",
       "      <td>14</td>\n",
       "      <td>0.3612</td>\n",
       "    </tr>\n",
       "  </tbody>\n",
       "</table>\n",
       "</div>"
      ],
      "text/plain": [
       "         subreddit                                              title  \\\n",
       "0  Anticonsumption                                         Great idea   \n",
       "1  Anticonsumption  Erik put a straw through his sippy cup. Dont' ...   \n",
       "2  Anticonsumption                                     Why, just why?   \n",
       "3  Anticonsumption  Local pho shop smooths edges of chipped bowls ...   \n",
       "4  Anticonsumption                                     Have to agree.   \n",
       "\n",
       "               body              created  total_comments  total_upvotes  \\\n",
       "0  thisisablankpost  2019-10-12 19:26:23               0              3   \n",
       "1  thisisablankpost  2019-10-12 17:23:52               5              1   \n",
       "2  thisisablankpost  2019-10-12 17:13:44               0              0   \n",
       "3  thisisablankpost  2019-10-12 15:34:28               7            166   \n",
       "4  thisisablankpost  2019-10-12 13:44:49               1             39   \n",
       "\n",
       "   target  num_title_words  num_title_chars  sentiment  \n",
       "0       1                2               10     0.6249  \n",
       "1       1               12               59    -0.2755  \n",
       "2       1                3               14     0.0000  \n",
       "3       1               12               67     0.0000  \n",
       "4       1                3               14     0.3612  "
      ]
     },
     "execution_count": 299,
     "metadata": {},
     "output_type": "execute_result"
    }
   ],
   "source": [
    "# check first rows\n",
    "subreddit_posts_df.head()"
   ]
  },
  {
   "cell_type": "markdown",
   "metadata": {},
   "source": [
    "### Pre-processing\n",
    "\n",
    "Cleaning up features to be used in modeling.\n",
    "- Remove HTML tags.\n",
    "- Remove English stop words and custom stop words.\n",
    "- Remove non-letter characters.\n",
    "- Make all words lower case.\n",
    "- Lemmatize words."
   ]
  },
  {
   "cell_type": "code",
   "execution_count": 300,
   "metadata": {},
   "outputs": [],
   "source": [
    "custom_stop = list(ENGLISH_STOP_WORDS)\n",
    "custom_stop.extend(['minimalism', 'minimalist', 'minimal', 'minimalistic', 'anticonsumption', 'consumption', 'life', \n",
    "                    'good', 'target', 'reddit', 'subreddit', 'http', 'www', '000', '10', '100', '11', '20', '2019', '24', '30'])"
   ]
  },
  {
   "cell_type": "code",
   "execution_count": 301,
   "metadata": {},
   "outputs": [],
   "source": [
    "# define a function to clean text from html tags, non-leters, english stop words, custom stop words\n",
    "\n",
    "def cleanup_lemmatize_text(document):\n",
    "    # remove HTML\n",
    "    text = BeautifulSoup(document).get_text()\n",
    "    # remove non-letter characters\n",
    "    letters = re.sub(\"[^a-zA-Z]\", \" \", document)    \n",
    "    # all words lower case\n",
    "    words = letters.lower().split()\n",
    "    # remove stop words (english + custom)\n",
    "    stops = set(custom_stop)\n",
    "    clean_words = [word for word in words if word not in stops]\n",
    "    # lemmatize cleaned up words\n",
    "    # lem_clean_words = [lemmatizer.lemmatize(token) for token in clean_words]\n",
    "    \n",
    "    # returned the cleand up string\n",
    "    return(\" \".join(clean_words))"
   ]
  },
  {
   "cell_type": "markdown",
   "metadata": {},
   "source": [
    "Lemmatizing words before modeling dropped my scores 3% in my first 2 models (scroll down to Modeling section to see). It may be because some words that exist in both subreddits in different forms are now equalized. I have commented lemmatizer from my function and will revisit to see how it will perform with my further models."
   ]
  },
  {
   "cell_type": "code",
   "execution_count": 302,
   "metadata": {},
   "outputs": [],
   "source": [
    "# initialize an empty list to hold the clean titles\n",
    "clean_titles = []\n",
    "\n",
    "for text in subreddit_posts_df['title']:\n",
    "    # convert title to words, then append to clean_titles list\n",
    "    clean_titles.append(cleanup_lemmatize_text(text))"
   ]
  },
  {
   "cell_type": "code",
   "execution_count": 303,
   "metadata": {},
   "outputs": [
    {
     "data": {
      "text/plain": [
       "7009"
      ]
     },
     "execution_count": 303,
     "metadata": {},
     "output_type": "execute_result"
    }
   ],
   "source": [
    "len(clean_titles)"
   ]
  },
  {
   "cell_type": "code",
   "execution_count": 304,
   "metadata": {},
   "outputs": [
    {
     "data": {
      "text/plain": [
       "(7009, 10)"
      ]
     },
     "execution_count": 304,
     "metadata": {},
     "output_type": "execute_result"
    }
   ],
   "source": [
    "subreddit_posts_df.shape"
   ]
  },
  {
   "cell_type": "code",
   "execution_count": 305,
   "metadata": {},
   "outputs": [],
   "source": [
    "subreddit_posts_df['title'] = clean_titles"
   ]
  },
  {
   "cell_type": "code",
   "execution_count": 306,
   "metadata": {},
   "outputs": [
    {
     "data": {
      "text/plain": [
       "0                                           great idea\n",
       "1                  erik straw sippy cup dont like erik\n",
       "2                                                 just\n",
       "3    local pho shop smooths edges chipped bowls kee...\n",
       "4                                                agree\n",
       "Name: title, dtype: object"
      ]
     },
     "execution_count": 306,
     "metadata": {},
     "output_type": "execute_result"
    }
   ],
   "source": [
    "subreddit_posts_df['title'].head()"
   ]
  },
  {
   "cell_type": "code",
   "execution_count": 307,
   "metadata": {},
   "outputs": [],
   "source": [
    "# initialize an empty list to hold the clean posts\n",
    "clean_posts = []\n",
    "\n",
    "for text in subreddit_posts_df['body']:\n",
    "    # convert body to words, then append to clean_posts list\n",
    "    clean_posts.append(cleanup_lemmatize_text(text))\n",
    "\n",
    "subreddit_posts_df['body'] = clean_posts"
   ]
  },
  {
   "cell_type": "markdown",
   "metadata": {},
   "source": [
    "### Modeling"
   ]
  },
  {
   "cell_type": "markdown",
   "metadata": {},
   "source": [
    "I am planning to generate several Logistic Regression, Multinomial NB, Gaussian NB, Decision Tree, and Random forest estimator models combining with several preprossesing transformers. Using Pipeline and GridSearch will allow me to run several models with least lines of code in order to come up with best combination.  \n",
    "\n",
    "1- Count Vectorizer & Logistic Regression  \n",
    "2- Tfidf Vectorizer & Logistic Regression  \n",
    "3- Count Vectorizer & Multinomial Naive Bayes  \n",
    "4- Tfidf Vectorizer & Gaussian Naive Bayes    \n",
    "5- Function Transformer & Count Vectorizer & Logistic Regression (text and numeric data)  \n",
    "6- Decision Tree  \n",
    "7- Random Forrest"
   ]
  },
  {
   "cell_type": "markdown",
   "metadata": {},
   "source": [
    "Set features, split data"
   ]
  },
  {
   "cell_type": "code",
   "execution_count": 308,
   "metadata": {},
   "outputs": [],
   "source": [
    "# define features variable(s) with only title column\n",
    "# I will not add body because first subreddit has a lot of blank posts that would cause unbalanced features\n",
    "X = subreddit_posts_df['title']\n",
    "\n",
    "# define target variable\n",
    "y = subreddit_posts_df['target']"
   ]
  },
  {
   "cell_type": "code",
   "execution_count": 309,
   "metadata": {},
   "outputs": [],
   "source": [
    "# split the data into the training and testing sets\n",
    "# set a random state for reproducibility \n",
    "# stratify y to combat slightly unbalanced classes\n",
    "X_train, X_test, y_train, y_test = train_test_split(X,\n",
    "                                                    y,\n",
    "                                                    test_size=0.33,\n",
    "                                                    stratify=y,\n",
    "                                                    random_state=42)"
   ]
  },
  {
   "cell_type": "markdown",
   "metadata": {},
   "source": [
    "#### Baseline Model Accuracy"
   ]
  },
  {
   "cell_type": "code",
   "execution_count": 310,
   "metadata": {},
   "outputs": [
    {
     "data": {
      "text/plain": [
       "1    0.527454\n",
       "0    0.472546\n",
       "Name: target, dtype: float64"
      ]
     },
     "execution_count": 310,
     "metadata": {},
     "output_type": "execute_result"
    }
   ],
   "source": [
    "# Baseline accuracy on test data\n",
    "y_test.value_counts(normalize=True)"
   ]
  },
  {
   "cell_type": "markdown",
   "metadata": {},
   "source": [
    "This means that, if we crate a naive model predicting all posts belong to Anticonsumption subreddit, our model would perform with 53% accuracy. There would be high False Positive rate and low Specifity. "
   ]
  },
  {
   "cell_type": "markdown",
   "metadata": {},
   "source": [
    "### Model_1: Count Vectorizer & Logistic Regression"
   ]
  },
  {
   "cell_type": "markdown",
   "metadata": {},
   "source": [
    "Define pipeline, hyperparameters, and gridsearch."
   ]
  },
  {
   "cell_type": "code",
   "execution_count": 327,
   "metadata": {},
   "outputs": [],
   "source": [
    "# CountVectorizer (transformer) & LogisticRegression (estimator)\n",
    "\n",
    "pipe1 = Pipeline([\n",
    "        ('cvec', CountVectorizer()),\n",
    "        ('logreg', LogisticRegression())\n",
    "])\n",
    "\n",
    "pipe1_params = {\n",
    "    'cvec__max_features': [1800, 2000, 2500],\n",
    "    'cvec__stop_words': [None, 'english'],\n",
    "    'cvec__ngram_range': [(1,1), (1,2), (1,3)],\n",
    "    'cvec__min_df': [.001, .002],\n",
    "    'cvec__max_df': [.70, .75, .85],\n",
    "    'cvec__strip_accents': ['ascii'],\n",
    "    'logreg__penalty': ['l1', 'l2'],\n",
    "    'logreg__C': [2, 2.5, 3]\n",
    "}\n",
    "\n",
    "gs1 = GridSearchCV(pipe1,  # object to be optimized\n",
    "                   pipe1_params, # parameter values to be searched\n",
    "                   cv=5, # 5 folds\n",
    "                   verbose = 1,\n",
    "                   n_jobs = -1\n",
    "                  )"
   ]
  },
  {
   "cell_type": "code",
   "execution_count": 328,
   "metadata": {},
   "outputs": [
    {
     "name": "stdout",
     "output_type": "stream",
     "text": [
      "Fitting 5 folds for each of 864 candidates, totalling 4320 fits\n"
     ]
    },
    {
     "name": "stderr",
     "output_type": "stream",
     "text": [
      "[Parallel(n_jobs=-1)]: Using backend LokyBackend with 8 concurrent workers.\n",
      "[Parallel(n_jobs=-1)]: Done  34 tasks      | elapsed:    9.1s\n",
      "[Parallel(n_jobs=-1)]: Done 184 tasks      | elapsed:   12.3s\n",
      "[Parallel(n_jobs=-1)]: Done 434 tasks      | elapsed:   18.5s\n",
      "[Parallel(n_jobs=-1)]: Done 784 tasks      | elapsed:   30.2s\n",
      "[Parallel(n_jobs=-1)]: Done 1234 tasks      | elapsed:   44.2s\n",
      "[Parallel(n_jobs=-1)]: Done 1784 tasks      | elapsed:  1.0min\n",
      "[Parallel(n_jobs=-1)]: Done 2434 tasks      | elapsed:  1.4min\n",
      "[Parallel(n_jobs=-1)]: Done 3184 tasks      | elapsed:  1.9min\n",
      "[Parallel(n_jobs=-1)]: Done 4034 tasks      | elapsed:  2.5min\n",
      "[Parallel(n_jobs=-1)]: Done 4320 out of 4320 | elapsed:  2.7min finished\n"
     ]
    },
    {
     "data": {
      "text/plain": [
       "GridSearchCV(cv=5, error_score='raise-deprecating',\n",
       "             estimator=Pipeline(memory=None,\n",
       "                                steps=[('cvec',\n",
       "                                        CountVectorizer(analyzer='word',\n",
       "                                                        binary=False,\n",
       "                                                        decode_error='strict',\n",
       "                                                        dtype=<class 'numpy.int64'>,\n",
       "                                                        encoding='utf-8',\n",
       "                                                        input='content',\n",
       "                                                        lowercase=True,\n",
       "                                                        max_df=1.0,\n",
       "                                                        max_features=None,\n",
       "                                                        min_df=1,\n",
       "                                                        ngram_range=(1, 1),\n",
       "                                                        preprocessor=None,\n",
       "                                                        stop_words=None,\n",
       "                                                        strip_accents=None,\n",
       "                                                        tok...\n",
       "             param_grid={'cvec__max_df': [0.75, 0.85, 0.9],\n",
       "                         'cvec__max_features': [1700, 2000, 2200],\n",
       "                         'cvec__min_df': [0.001, 0.002],\n",
       "                         'cvec__ngram_range': [(1, 1), (1, 2), (1, 3)],\n",
       "                         'cvec__stop_words': [None, 'english'],\n",
       "                         'cvec__strip_accents': ['ascii'],\n",
       "                         'logreg__C': [1, 1.5, 2, 2.5],\n",
       "                         'logreg__penalty': ['l1', 'l2']},\n",
       "             pre_dispatch='2*n_jobs', refit=True, return_train_score=False,\n",
       "             scoring=None, verbose=1)"
      ]
     },
     "execution_count": 328,
     "metadata": {},
     "output_type": "execute_result"
    }
   ],
   "source": [
    "# fit gridsearch CV to train data\n",
    "gs1.fit(X_train, y_train)"
   ]
  },
  {
   "cell_type": "code",
   "execution_count": 329,
   "metadata": {},
   "outputs": [
    {
     "name": "stdout",
     "output_type": "stream",
     "text": [
      "Models count: 1080\n"
     ]
    }
   ],
   "source": [
    "# Number of models generated\n",
    "print(f\"Models count: {3 * 2 * 3 * 2 * 3 * 2 * 5}\")"
   ]
  },
  {
   "cell_type": "code",
   "execution_count": 330,
   "metadata": {},
   "outputs": [
    {
     "data": {
      "text/plain": [
       "0.8767035775127768"
      ]
     },
     "execution_count": 330,
     "metadata": {},
     "output_type": "execute_result"
    }
   ],
   "source": [
    "# Best score\n",
    "gs1.best_score_"
   ]
  },
  {
   "cell_type": "code",
   "execution_count": 331,
   "metadata": {},
   "outputs": [],
   "source": [
    "# Save the best model\n",
    "gs1_model = gs1.best_estimator_"
   ]
  },
  {
   "cell_type": "code",
   "execution_count": 332,
   "metadata": {},
   "outputs": [
    {
     "name": "stdout",
     "output_type": "stream",
     "text": [
      "Model_1 Best parameters: {'cvec__max_df': 0.75, 'cvec__max_features': 2200, 'cvec__min_df': 0.001, 'cvec__ngram_range': (1, 2), 'cvec__stop_words': 'english', 'cvec__strip_accents': 'ascii', 'logreg__C': 2.5, 'logreg__penalty': 'l1'}\n"
     ]
    }
   ],
   "source": [
    "# Best parameter values\n",
    "print(f\"Model_1 Best parameters: {gs1.best_params_}\")"
   ]
  },
  {
   "cell_type": "code",
   "execution_count": 333,
   "metadata": {},
   "outputs": [
    {
     "name": "stdout",
     "output_type": "stream",
     "text": [
      "Model_1 Train score: 0.9356899488926746\n",
      "Model_1 Test score: 0.9061824470384782\n"
     ]
    }
   ],
   "source": [
    "# Score best model on train set\n",
    "print(f\"Model_1 Train score: {gs1_model.score(X_train, y_train)}\")\n",
    "# Score best model on test set\n",
    "print(f\"Model_1 Test score: {gs1_model.score(X_test, y_test)}\")"
   ]
  },
  {
   "cell_type": "markdown",
   "metadata": {},
   "source": [
    "My first model is overfit and suffering from high variance as there is a 3% difference between train data and unseen data. I have set min_df, max_df, and max_features for transformer to cleanup any further noise. Also, lemmatizing words before modeling dropped my scores 3% both in train and test data. It may be because some words that exist in both classes in different forms are now equalized. I have commented lemmatizer from my function and will revisit to see how it will perform with my further models."
   ]
  },
  {
   "cell_type": "markdown",
   "metadata": {},
   "source": [
    "### Model_2: TFIDF Vectorizer & Logistic Regression"
   ]
  },
  {
   "cell_type": "code",
   "execution_count": 342,
   "metadata": {},
   "outputs": [],
   "source": [
    "# TfidfVectorizer (transformer) & LogisticRegression (estimator)\n",
    "\n",
    "pipe2 = Pipeline([\n",
    "        ('tvec', TfidfVectorizer()),\n",
    "        ('logreg', LogisticRegression())\n",
    "])\n",
    "\n",
    "pipe2_params = {\n",
    "    'tvec__max_features': [1300, 1500, 1700],\n",
    "    'tvec__stop_words': [None, 'english'],\n",
    "    'tvec__ngram_range': [(1,1), (1,2), (1,3)],\n",
    "    'tvec__min_df': [.001, .002],\n",
    "    'tvec__max_df': [.70, .75, .80, .85],\n",
    "    'tvec__strip_accents': ['ascii'],\n",
    "    'logreg__penalty': ['l1', 'l2'],\n",
    "    'logreg__C': [2, 2.5, 3]\n",
    "}\n",
    "\n",
    "gs2 = GridSearchCV(pipe2,  # object to be optimized\n",
    "                   pipe2_params, # parameter values to be searched\n",
    "                   cv=5, # 5 folds\n",
    "                   verbose=1,\n",
    "                   n_jobs=-1\n",
    "                  )"
   ]
  },
  {
   "cell_type": "code",
   "execution_count": 343,
   "metadata": {},
   "outputs": [
    {
     "name": "stdout",
     "output_type": "stream",
     "text": [
      "Fitting 5 folds for each of 864 candidates, totalling 4320 fits\n"
     ]
    },
    {
     "name": "stderr",
     "output_type": "stream",
     "text": [
      "[Parallel(n_jobs=-1)]: Using backend LokyBackend with 8 concurrent workers.\n",
      "[Parallel(n_jobs=-1)]: Done  34 tasks      | elapsed:    4.3s\n",
      "[Parallel(n_jobs=-1)]: Done 184 tasks      | elapsed:   12.0s\n",
      "[Parallel(n_jobs=-1)]: Done 434 tasks      | elapsed:   25.6s\n",
      "[Parallel(n_jobs=-1)]: Done 784 tasks      | elapsed:   48.7s\n",
      "[Parallel(n_jobs=-1)]: Done 1234 tasks      | elapsed:  1.0min\n",
      "[Parallel(n_jobs=-1)]: Done 1784 tasks      | elapsed:  1.5min\n",
      "[Parallel(n_jobs=-1)]: Done 2434 tasks      | elapsed:  2.1min\n",
      "[Parallel(n_jobs=-1)]: Done 3184 tasks      | elapsed:  2.6min\n",
      "[Parallel(n_jobs=-1)]: Done 4034 tasks      | elapsed:  3.3min\n",
      "[Parallel(n_jobs=-1)]: Done 4320 out of 4320 | elapsed:  3.5min finished\n"
     ]
    },
    {
     "data": {
      "text/plain": [
       "GridSearchCV(cv=5, error_score='raise-deprecating',\n",
       "             estimator=Pipeline(memory=None,\n",
       "                                steps=[('tvec',\n",
       "                                        TfidfVectorizer(analyzer='word',\n",
       "                                                        binary=False,\n",
       "                                                        decode_error='strict',\n",
       "                                                        dtype=<class 'numpy.float64'>,\n",
       "                                                        encoding='utf-8',\n",
       "                                                        input='content',\n",
       "                                                        lowercase=True,\n",
       "                                                        max_df=1.0,\n",
       "                                                        max_features=None,\n",
       "                                                        min_df=1,\n",
       "                                                        ngram_range=(1, 1),\n",
       "                                                        norm='l2',\n",
       "                                                        preprocessor=None,\n",
       "                                                        smooth_idf=True,\n",
       "                                                        stop_words...\n",
       "             param_grid={'logreg__C': [2, 2.5, 3],\n",
       "                         'logreg__penalty': ['l1', 'l2'],\n",
       "                         'tvec__max_df': [0.7, 0.75, 0.8, 0.85],\n",
       "                         'tvec__max_features': [1300, 1500, 1700],\n",
       "                         'tvec__min_df': [0.001, 0.002],\n",
       "                         'tvec__ngram_range': [(1, 1), (1, 2), (1, 3)],\n",
       "                         'tvec__stop_words': [None, 'english'],\n",
       "                         'tvec__strip_accents': ['ascii']},\n",
       "             pre_dispatch='2*n_jobs', refit=True, return_train_score=False,\n",
       "             scoring=None, verbose=1)"
      ]
     },
     "execution_count": 343,
     "metadata": {},
     "output_type": "execute_result"
    }
   ],
   "source": [
    "# fit gridsearch CV to train data\n",
    "gs2.fit(X_train, y_train)"
   ]
  },
  {
   "cell_type": "code",
   "execution_count": 337,
   "metadata": {},
   "outputs": [],
   "source": [
    "# Number of models generated\n",
    "# print(f\"Models count: {3 * 2 * 3 * 2 * 3 * 2 * 5}\")"
   ]
  },
  {
   "cell_type": "code",
   "execution_count": 338,
   "metadata": {},
   "outputs": [
    {
     "data": {
      "text/plain": [
       "0.8705281090289608"
      ]
     },
     "execution_count": 338,
     "metadata": {},
     "output_type": "execute_result"
    }
   ],
   "source": [
    "# Best score\n",
    "gs2.best_score_"
   ]
  },
  {
   "cell_type": "code",
   "execution_count": 339,
   "metadata": {},
   "outputs": [],
   "source": [
    "# Save the best model\n",
    "gs2_model = gs2.best_estimator_"
   ]
  },
  {
   "cell_type": "code",
   "execution_count": 340,
   "metadata": {},
   "outputs": [
    {
     "name": "stdout",
     "output_type": "stream",
     "text": [
      "Model_2 Best parameters: {'logreg__C': 2.5, 'logreg__penalty': 'l1', 'tvec__max_df': 0.8, 'tvec__max_features': 1500, 'tvec__min_df': 0.001, 'tvec__ngram_range': (1, 1), 'tvec__stop_words': None, 'tvec__strip_accents': 'ascii'}\n"
     ]
    }
   ],
   "source": [
    "# Best parameter values\n",
    "print(f\"Model_2 Best parameters: {gs2.best_params_}\")"
   ]
  },
  {
   "cell_type": "code",
   "execution_count": 341,
   "metadata": {},
   "outputs": [
    {
     "name": "stdout",
     "output_type": "stream",
     "text": [
      "Model_2 Train score: 0.9361158432708688\n",
      "Model_2 Test score: 0.9009943795936014\n"
     ]
    }
   ],
   "source": [
    "# Score best model on train set\n",
    "print(f\"Model_2 Train score: {gs2_model.score(X_train, y_train)}\")\n",
    "# Score best model on test set\n",
    "print(f\"Model_2 Test score: {gs2_model.score(X_test, y_test)}\")"
   ]
  },
  {
   "cell_type": "markdown",
   "metadata": {},
   "source": [
    "My second model is also overfit and suffering from high variance as there is a 4% difference between train data and unseen data. It looks like Tfidf vectorizer model did not outperform Count Vectorizer model as expected. It may be because of some rare words that are the only predictor for the document they belong to lost their influence due to normalization. I have set min_df, max_df, and max_features for transformer to cleanup any further noise."
   ]
  },
  {
   "cell_type": "markdown",
   "metadata": {},
   "source": [
    "### Model_3: Count Vectorizer & Multinomial Naive Bayes"
   ]
  },
  {
   "cell_type": "code",
   "execution_count": 76,
   "metadata": {},
   "outputs": [],
   "source": [
    "# instantiate CountVectorizer object\n",
    "cv = CountVectorizer()\n",
    "\n",
    "# fit and transform data\n",
    "X_train_cv = cv.fit_transform(X_train)\n",
    "X_test_cv = cv.transform(X_test)"
   ]
  },
  {
   "cell_type": "code",
   "execution_count": 396,
   "metadata": {},
   "outputs": [],
   "source": [
    "# define hyperparameters\n",
    "mnb_params = {\n",
    "    'fit_prior': [True],\n",
    "    'alpha': [0, 0.5, 1]}\n",
    "        \n",
    "#instantate gridsearch\n",
    "gs_mnb = GridSearchCV(MultinomialNB(),\n",
    "                    mnb_params,\n",
    "                    cv = 5,\n",
    "                    verbose = 1,\n",
    "                    n_jobs = -1)"
   ]
  },
  {
   "cell_type": "code",
   "execution_count": 398,
   "metadata": {},
   "outputs": [
    {
     "name": "stdout",
     "output_type": "stream",
     "text": [
      "Fitting 5 folds for each of 3 candidates, totalling 15 fits\n"
     ]
    },
    {
     "name": "stderr",
     "output_type": "stream",
     "text": [
      "[Parallel(n_jobs=-1)]: Using backend LokyBackend with 8 concurrent workers.\n",
      "[Parallel(n_jobs=-1)]: Done  15 out of  15 | elapsed:    0.0s finished\n"
     ]
    },
    {
     "data": {
      "text/plain": [
       "GridSearchCV(cv=5, error_score='raise-deprecating',\n",
       "             estimator=MultinomialNB(alpha=1.0, class_prior=None,\n",
       "                                     fit_prior=True),\n",
       "             iid='warn', n_jobs=-1,\n",
       "             param_grid={'alpha': [0, 0.5, 1], 'fit_prior': [True]},\n",
       "             pre_dispatch='2*n_jobs', refit=True, return_train_score=False,\n",
       "             scoring=None, verbose=1)"
      ]
     },
     "execution_count": 398,
     "metadata": {},
     "output_type": "execute_result"
    }
   ],
   "source": [
    "# fit train data to model\n",
    "gs_mnb.fit(X_train_cv, y_train)"
   ]
  },
  {
   "cell_type": "code",
   "execution_count": 407,
   "metadata": {},
   "outputs": [],
   "source": [
    "# Save the best model\n",
    "gs_mnb_model = gs_mnb.best_estimator_"
   ]
  },
  {
   "cell_type": "code",
   "execution_count": 409,
   "metadata": {},
   "outputs": [
    {
     "name": "stdout",
     "output_type": "stream",
     "text": [
      "Model_3 Best parameters: {'alpha': 0, 'fit_prior': True}\n"
     ]
    }
   ],
   "source": [
    "# Best parameter values\n",
    "print(f\"Model_3 Best parameters: {gs_mnb.best_params_}\")"
   ]
  },
  {
   "cell_type": "code",
   "execution_count": 410,
   "metadata": {},
   "outputs": [
    {
     "name": "stdout",
     "output_type": "stream",
     "text": [
      "Model_3 Train score: 0.954855195911414\n",
      "Model_3 Test score: 0.9286640726329443\n"
     ]
    }
   ],
   "source": [
    "# Score the model on train set\n",
    "print(f\"Model_3 Train score: {gs_mnb_model.score(X_train_cv, y_train)}\")\n",
    "# Score the model on test set\n",
    "print(f\"Model_3 Test score: {gs_mnb_model.score(X_test_cv, y_test)}\")"
   ]
  },
  {
   "cell_type": "markdown",
   "metadata": {},
   "source": [
    "It looks like Multinomial Naive Bayes is the best model so far. It's less overfit and generalize the information better on test data. Also, it has the lowest time complexity and best memory efficiency. We only created 15 models that took much less time comparing to 1080 models we created earlier with Logistic Regression estimator using pipeline. "
   ]
  },
  {
   "cell_type": "code",
   "execution_count": 419,
   "metadata": {},
   "outputs": [],
   "source": [
    "# Generate predictions\n",
    "preds =gs_mnb_model.predict(X_test_cv)"
   ]
  },
  {
   "cell_type": "code",
   "execution_count": 421,
   "metadata": {},
   "outputs": [
    {
     "data": {
      "text/plain": [
       "array([[1014,   79],\n",
       "       [  86, 1134]], dtype=int64)"
      ]
     },
     "execution_count": 421,
     "metadata": {},
     "output_type": "execute_result"
    }
   ],
   "source": [
    "# Generate confusion matrix\n",
    "confusion_matrix(y_test, # True values\n",
    "                 preds)  # Predicted values"
   ]
  },
  {
   "cell_type": "markdown",
   "metadata": {},
   "source": [
    "|   |True r/Minimal  | True r/Anticon  |\n",
    "|---|---|---|\n",
    "| Pred r/Minimal  | 1014  | 86  |\n",
    "| Pred r/Anticon  | 79  |1134   |"
   ]
  },
  {
   "cell_type": "code",
   "execution_count": 422,
   "metadata": {},
   "outputs": [],
   "source": [
    "# Save TN/FP/FN/TP values\n",
    "tn, fp, fn, tp = confusion_matrix(y_test,\n",
    "                                  preds).ravel() # .ravel() to arrange items in one-dimensional array"
   ]
  },
  {
   "cell_type": "code",
   "execution_count": 423,
   "metadata": {},
   "outputs": [
    {
     "name": "stdout",
     "output_type": "stream",
     "text": [
      "Specificity: 0.9277\n"
     ]
    }
   ],
   "source": [
    "# Calculate specifity\n",
    "spec = tn / (tn + fp)\n",
    "\n",
    "print(f'Specificity: {round(spec,4)}')"
   ]
  },
  {
   "cell_type": "code",
   "execution_count": 424,
   "metadata": {},
   "outputs": [
    {
     "name": "stdout",
     "output_type": "stream",
     "text": [
      "Sensitivity: 0.9295\n"
     ]
    }
   ],
   "source": [
    "# Calculate sensitivity\n",
    "sens = tp / (tp + fn)\n",
    "\n",
    "print(f'Sensitivity: {round(sens,4)}')"
   ]
  },
  {
   "cell_type": "code",
   "execution_count": 426,
   "metadata": {},
   "outputs": [],
   "source": [
    "# create a dataframe that contains\n",
    "# 1. The list of true values of our test set\n",
    "# 2. The list of predicted probabilities based on our model\n",
    "\n",
    "# P(Y = 1)\n",
    "pred_proba = [i[1] for i in gs_mnb_model.predict_proba(X_test_cv)]\n",
    "\n",
    "pred_df = pd.DataFrame({'true_values': y_test,\n",
    "                        'pred_probs':pred_proba})"
   ]
  },
  {
   "cell_type": "code",
   "execution_count": 435,
   "metadata": {},
   "outputs": [
    {
     "data": {
      "image/png": "[encoded data removed]",
      "text/plain": [
       "<Figure size 720x504 with 1 Axes>"
      ]
     },
     "metadata": {
      "needs_background": "light"
     },
     "output_type": "display_data"
    }
   ],
   "source": [
    "# This code is copied from lecture 4.04 starter code with slight modifications\n",
    "# Create figure.\n",
    "plt.figure(figsize = (10,7))\n",
    "\n",
    "# Create two histograms of observations.\n",
    "plt.hist(pred_df[pred_df['true_values'] == 0]['pred_probs'],\n",
    "         bins=25,\n",
    "         color='purple',\n",
    "         alpha = 0.6,\n",
    "         label='Minimalism')\n",
    "plt.hist(pred_df[pred_df['true_values'] == 1]['pred_probs'],\n",
    "         bins=25,\n",
    "         color='green',\n",
    "         alpha = 0.6,\n",
    "         label='Anticonsumption')\n",
    "\n",
    "# Add vertical line at P(Outcome = 1) = 0.5.\n",
    "plt.vlines(x=0.5,\n",
    "           ymin = 0,\n",
    "           ymax = 65,\n",
    "           color='r',\n",
    "           linestyle = '--')\n",
    "\n",
    "# Label axes.\n",
    "plt.title('Distribution of P(r/Anticonsumption)', fontsize=22)\n",
    "plt.ylabel('Frequency', fontsize=18)\n",
    "plt.xlabel('Predicted Probability of r/Anticonsumption', fontsize=18)\n",
    "\n",
    "# Create legend.\n",
    "plt.legend(fontsize=20);"
   ]
  },
  {
   "cell_type": "code",
   "execution_count": 441,
   "metadata": {},
   "outputs": [
    {
     "data": {
      "image/png": "[encoded data removed]",
      "text/plain": [
       "<Figure size 864x576 with 1 Axes>"
      ]
     },
     "metadata": {
      "needs_background": "light"
     },
     "output_type": "display_data"
    }
   ],
   "source": [
    "# This code is adopted from lecture 4.04 starter code with further modifications\n",
    "\n",
    "# Define function to calculate sensitivity. (True positive rate.)\n",
    "def TPR(df, true_col, pred_prob_col, threshold):\n",
    "    true_positive = df[(df[true_col] == 1) & (df[pred_prob_col] >= threshold)].shape[0]\n",
    "    false_negative = df[(df[true_col] == 1) & (df[pred_prob_col] < threshold)].shape[0]\n",
    "    return true_positive / (true_positive + false_negative)\n",
    "    \n",
    "\n",
    "# Define function to calculate 1 - specificity. (False positive rate.)\n",
    "def FPR(df, true_col, pred_prob_col, threshold):\n",
    "    true_negative = df[(df[true_col] == 0) & (df[pred_prob_col] <= threshold)].shape[0]\n",
    "    false_positive = df[(df[true_col] == 0) & (df[pred_prob_col] > threshold)].shape[0]\n",
    "    return 1 - (true_negative / (true_negative + false_positive))\n",
    "\n",
    "# Create threshold values.\n",
    "thresholds = np.linspace(0, 1, 200) \n",
    "# Calculate sensitivity & 1-specificity for each threshold between 0 and 1.\n",
    "tpr_values = [TPR(pred_df, 'true_values', 'pred_probs', prob) for prob in thresholds]\n",
    "fpr_values = [FPR(pred_df, 'true_values', 'pred_probs', prob) for prob in thresholds]\n",
    "\n",
    "# Define function to plot ROC curve\n",
    "def plot_roc_curve(tpr_list, fpr_list): \n",
    "    plt.figure(figsize=(12,8))\n",
    "    plt.plot(fpr_list, # False Positive Rate on X-axis\n",
    "             tpr_list, # True Positive Rate on Y-axis\n",
    "             label='ROC Curve')\n",
    "    plt.plot(np.linspace(0, 1, 200), # Plot baseline.\n",
    "         np.linspace(0, 1, 200),\n",
    "         label='baseline',\n",
    "         linestyle='--')\n",
    "    plt.title('Receiver Operating Characteristic Curve', fontsize=22)\n",
    "    plt.ylabel('Sensitivity', fontsize=18) # Label y axes.\n",
    "    plt.xlabel('1 - Specificity', fontsize=18) # Label x axes.\n",
    "    plt.legend(fontsize=16);  # Create legend.\n",
    "\n",
    "plot_roc_curve(tpr_values, fpr_values);"
   ]
  },
  {
   "cell_type": "markdown",
   "metadata": {},
   "source": [
    "### Model_4: Tfidf Vectorizer & Gaussian Naive Bayes"
   ]
  },
  {
   "cell_type": "code",
   "execution_count": 79,
   "metadata": {},
   "outputs": [],
   "source": [
    "# instantiate CountVectorizer object\n",
    "tv = TfidfVectorizer()\n",
    "\n",
    "# fit and transform data\n",
    "X_train_tv = tv.fit_transform(X_train)\n",
    "X_test_tv = tv.transform(X_test)"
   ]
  },
  {
   "cell_type": "code",
   "execution_count": 80,
   "metadata": {},
   "outputs": [
    {
     "data": {
      "text/plain": [
       "GaussianNB(priors=None, var_smoothing=1e-09)"
      ]
     },
     "execution_count": 80,
     "metadata": {},
     "output_type": "execute_result"
    }
   ],
   "source": [
    "# instantiate GaussianNB object\n",
    "gnb = GaussianNB()\n",
    "\n",
    "# fit train data to model\n",
    "# as the data is a sparse matrix, convert to array to make it dense\n",
    "gnb.fit(X_train_tv.toarray(), y_train)"
   ]
  },
  {
   "cell_type": "code",
   "execution_count": 81,
   "metadata": {},
   "outputs": [
    {
     "name": "stdout",
     "output_type": "stream",
     "text": [
      "Model_4 Train score: 0.9248296422487223\n",
      "Model_4 Test score: 0.9009943795936014\n"
     ]
    }
   ],
   "source": [
    "# Score the model on train set\n",
    "print(f\"Model_4 Train score: {gnb.score(X_train_tv.toarray(), y_train)}\")\n",
    "# Score the model on test set\n",
    "print(f\"Model_4 Test score: {gnb.score(X_test_tv.toarray(), y_test)}\")"
   ]
  },
  {
   "cell_type": "markdown",
   "metadata": {},
   "source": [
    "Gaussian Naive Bayes is also a candidate to be the best model in terms of low variance and high performance. There is only 2% difference in accuracy between train and test data and it predicts 91% of the document classes correctly."
   ]
  },
  {
   "cell_type": "markdown",
   "metadata": {},
   "source": [
    "### Model_5: Logistic Regression (Text & Numeric)"
   ]
  },
  {
   "cell_type": "markdown",
   "metadata": {},
   "source": [
    "I will use feature union with pipeline to fit num_title_words, total_upvotes, and sentiment numeric variables as well as words to my model. Text features will be vectorized, whereas numeric features will not be teansformed."
   ]
  },
  {
   "cell_type": "code",
   "execution_count": 270,
   "metadata": {},
   "outputs": [],
   "source": [
    "# set X and y\n",
    "# this time we will include some numeric features to see their impact\n",
    "X_union = subreddit_posts_df[['title', 'num_title_words', 'total_upvotes', 'sentiment']]\n",
    "y_union = subreddit_posts_df['target']"
   ]
  },
  {
   "cell_type": "code",
   "execution_count": 271,
   "metadata": {},
   "outputs": [],
   "source": [
    "# split the data\n",
    "X_union_train, X_union_test, y_union_train, y_union_test = train_test_split(X_union, y_union, test_size=0.33, \n",
    "                                                                               stratify=y, random_state=42)"
   ]
  },
  {
   "cell_type": "code",
   "execution_count": 272,
   "metadata": {},
   "outputs": [],
   "source": [
    "# create functions to group features based on data type\n",
    "def get_text(data):\n",
    "    return data['title']\n",
    "\n",
    "def get_numeric(data):\n",
    "    return data[['num_title_words', 'total_upvotes', 'sentiment']]"
   ]
  },
  {
   "cell_type": "code",
   "execution_count": 273,
   "metadata": {},
   "outputs": [],
   "source": [
    "# create function transformer for text features\n",
    "get_text_tf = FunctionTransformer(get_text, validate=False)\n",
    "# create function transformer for numeric features\n",
    "get_numeric_tf = FunctionTransformer(get_numeric, validate=False)"
   ]
  },
  {
   "cell_type": "code",
   "execution_count": 274,
   "metadata": {},
   "outputs": [],
   "source": [
    "# create the new pipeline\n",
    "pipe3 = Pipeline([\n",
    "    # feature union\n",
    "    ('union', FeatureUnion([\n",
    "        # numeric\n",
    "        ('numeric', get_numeric_tf),\n",
    "        # text\n",
    "        ('text', Pipeline([\n",
    "            # extract text\n",
    "            ('selector', get_text_tf),\n",
    "            # vectorize\n",
    "            ('cvec', CountVectorizer())\n",
    "        ]))\n",
    "    ])),\n",
    "    # model\n",
    "    ('logreg', LogisticRegression())\n",
    "])"
   ]
  },
  {
   "cell_type": "code",
   "execution_count": 275,
   "metadata": {},
   "outputs": [],
   "source": [
    "pipe3_params = {}"
   ]
  },
  {
   "cell_type": "code",
   "execution_count": 276,
   "metadata": {},
   "outputs": [],
   "source": [
    "gs3 = GridSearchCV(pipe3, pipe3_params, cv=5)"
   ]
  },
  {
   "cell_type": "code",
   "execution_count": 277,
   "metadata": {},
   "outputs": [
    {
     "data": {
      "text/plain": [
       "GridSearchCV(cv=5, error_score='raise-deprecating',\n",
       "             estimator=Pipeline(memory=None,\n",
       "                                steps=[('union',\n",
       "                                        FeatureUnion(n_jobs=None,\n",
       "                                                     transformer_list=[('numeric',\n",
       "                                                                        FunctionTransformer(accept_sparse=False,\n",
       "                                                                                            check_inverse=True,\n",
       "                                                                                            func=<function get_numeric at 0x00000268DC0B11F8>,\n",
       "                                                                                            inv_kw_args=None,\n",
       "                                                                                            inverse_func=None,\n",
       "                                                                                            kw_args=None,\n",
       "                                                                                            pass_y='deprecated',\n",
       "                                                                                            validate=False)),\n",
       "                                                                       ('text',...\n",
       "                                        LogisticRegression(C=1.0,\n",
       "                                                           class_weight=None,\n",
       "                                                           dual=False,\n",
       "                                                           fit_intercept=True,\n",
       "                                                           intercept_scaling=1,\n",
       "                                                           l1_ratio=None,\n",
       "                                                           max_iter=100,\n",
       "                                                           multi_class='warn',\n",
       "                                                           n_jobs=None,\n",
       "                                                           penalty='l2',\n",
       "                                                           random_state=None,\n",
       "                                                           solver='warn',\n",
       "                                                           tol=0.0001,\n",
       "                                                           verbose=0,\n",
       "                                                           warm_start=False))],\n",
       "                                verbose=False),\n",
       "             iid='warn', n_jobs=None, param_grid={}, pre_dispatch='2*n_jobs',\n",
       "             refit=True, return_train_score=False, scoring=None, verbose=0)"
      ]
     },
     "execution_count": 277,
     "metadata": {},
     "output_type": "execute_result"
    }
   ],
   "source": [
    "gs3.fit(X_union_train, y_union_train)"
   ]
  },
  {
   "cell_type": "code",
   "execution_count": 278,
   "metadata": {},
   "outputs": [
    {
     "name": "stdout",
     "output_type": "stream",
     "text": [
      "Model_5 Train score: 0.9723168654173765\n",
      "Model_5 Test score: 0.9485516645049719\n"
     ]
    }
   ],
   "source": [
    "# Score the model on train set\n",
    "print(f\"Model_5 Train score: {gs3.score(X_union_train, y_union_train)}\")\n",
    "# Score the model on test set\n",
    "print(f\"Model_5 Test score: {gs3.score(X_union_test, y_union_test)}\")"
   ]
  },
  {
   "cell_type": "code",
   "execution_count": 279,
   "metadata": {},
   "outputs": [],
   "source": [
    "# save the best model\n",
    "gs3_model = gs3.best_estimator_"
   ]
  },
  {
   "cell_type": "code",
   "execution_count": 280,
   "metadata": {},
   "outputs": [],
   "source": [
    "# extract the coefficients of all features from the model\n",
    "gs3_coefs = gs3_model.named_steps['logreg'].coef_[0]"
   ]
  },
  {
   "cell_type": "code",
   "execution_count": 281,
   "metadata": {},
   "outputs": [],
   "source": [
    "# extract the count-vectorized title features from the model\n",
    "text_features = gs3_model.named_steps['union'].transformer_list[1][1].named_steps['cvec'].get_feature_names()"
   ]
  },
  {
   "cell_type": "code",
   "execution_count": 282,
   "metadata": {},
   "outputs": [],
   "source": [
    "# define numeric features list\n",
    "numeric_features = ['num_title_words', 'total_upvotes', 'sentiment']\n",
    "\n",
    "# combine numeric and text features\n",
    "# since we have passed numeric features first to the feature union, they should be the first ones in the list\n",
    "features = numeric_features + text_features"
   ]
  },
  {
   "cell_type": "code",
   "execution_count": 283,
   "metadata": {},
   "outputs": [],
   "source": [
    "# create a dictionary for features and coefficient pairs\n",
    "model5_coef_dict = dict(zip(features, gs3_coefs))"
   ]
  },
  {
   "cell_type": "code",
   "execution_count": 284,
   "metadata": {},
   "outputs": [],
   "source": [
    "# convert feature/coefficent pairs to dataframe\n",
    "model5_coef_df = pd.DataFrame(model5_coef_dict.items(), columns=['feature', 'coef'])"
   ]
  },
  {
   "cell_type": "code",
   "execution_count": 285,
   "metadata": {},
   "outputs": [
    {
     "data": {
      "text/html": [
       "<div>\n",
       "<style scoped>\n",
       "    .dataframe tbody tr th:only-of-type {\n",
       "        vertical-align: middle;\n",
       "    }\n",
       "\n",
       "    .dataframe tbody tr th {\n",
       "        vertical-align: top;\n",
       "    }\n",
       "\n",
       "    .dataframe thead th {\n",
       "        text-align: right;\n",
       "    }\n",
       "</style>\n",
       "<table border=\"1\" class=\"dataframe\">\n",
       "  <thead>\n",
       "    <tr style=\"text-align: right;\">\n",
       "      <th></th>\n",
       "      <th>2367</th>\n",
       "      <th>117</th>\n",
       "      <th>3526</th>\n",
       "      <th>448</th>\n",
       "      <th>2248</th>\n",
       "      <th>3636</th>\n",
       "      <th>669</th>\n",
       "      <th>3603</th>\n",
       "      <th>47</th>\n",
       "      <th>573</th>\n",
       "      <th>1603</th>\n",
       "      <th>3518</th>\n",
       "      <th>3618</th>\n",
       "      <th>3236</th>\n",
       "      <th>1876</th>\n",
       "    </tr>\n",
       "  </thead>\n",
       "  <tbody>\n",
       "    <tr>\n",
       "      <td>feature</td>\n",
       "      <td>plastic</td>\n",
       "      <td>anti</td>\n",
       "      <td>water</td>\n",
       "      <td>capitalism</td>\n",
       "      <td>packaging</td>\n",
       "      <td>years</td>\n",
       "      <td>consumer</td>\n",
       "      <td>world</td>\n",
       "      <td>ad</td>\n",
       "      <td>climate</td>\n",
       "      <td>individually</td>\n",
       "      <td>waste</td>\n",
       "      <td>wrapped</td>\n",
       "      <td>thought</td>\n",
       "      <td>lord</td>\n",
       "    </tr>\n",
       "    <tr>\n",
       "      <td>coef</td>\n",
       "      <td>2.83577</td>\n",
       "      <td>2.21274</td>\n",
       "      <td>1.94987</td>\n",
       "      <td>1.89525</td>\n",
       "      <td>1.87345</td>\n",
       "      <td>1.79223</td>\n",
       "      <td>1.76443</td>\n",
       "      <td>1.71502</td>\n",
       "      <td>1.69668</td>\n",
       "      <td>1.693</td>\n",
       "      <td>1.68534</td>\n",
       "      <td>1.66275</td>\n",
       "      <td>1.62001</td>\n",
       "      <td>1.60592</td>\n",
       "      <td>1.53244</td>\n",
       "    </tr>\n",
       "  </tbody>\n",
       "</table>\n",
       "</div>"
      ],
      "text/plain": [
       "            2367     117      3526        448        2248     3636      669   \\\n",
       "feature  plastic     anti    water  capitalism  packaging    years  consumer   \n",
       "coef     2.83577  2.21274  1.94987     1.89525    1.87345  1.79223   1.76443   \n",
       "\n",
       "            3603     47       573           1603     3518     3618     3236  \\\n",
       "feature    world       ad  climate  individually    waste  wrapped  thought   \n",
       "coef     1.71502  1.69668    1.693       1.68534  1.66275  1.62001  1.60592   \n",
       "\n",
       "            1876  \n",
       "feature     lord  \n",
       "coef     1.53244  "
      ]
     },
     "execution_count": 285,
     "metadata": {},
     "output_type": "execute_result"
    }
   ],
   "source": [
    "# top 15 positive coefficients\n",
    "model5_coef_df.sort_values('coef', ascending=False).head(15).T"
   ]
  },
  {
   "cell_type": "code",
   "execution_count": 286,
   "metadata": {},
   "outputs": [
    {
     "data": {
      "text/html": [
       "<div>\n",
       "<style scoped>\n",
       "    .dataframe tbody tr th:only-of-type {\n",
       "        vertical-align: middle;\n",
       "    }\n",
       "\n",
       "    .dataframe tbody tr th {\n",
       "        vertical-align: top;\n",
       "    }\n",
       "\n",
       "    .dataframe thead th {\n",
       "        text-align: right;\n",
       "    }\n",
       "</style>\n",
       "<table border=\"1\" class=\"dataframe\">\n",
       "  <thead>\n",
       "    <tr style=\"text-align: right;\">\n",
       "      <th></th>\n",
       "      <th>3504</th>\n",
       "      <th>584</th>\n",
       "      <th>822</th>\n",
       "      <th>122</th>\n",
       "      <th>2713</th>\n",
       "      <th>820</th>\n",
       "      <th>1308</th>\n",
       "      <th>3225</th>\n",
       "      <th>1286</th>\n",
       "      <th>303</th>\n",
       "      <th>1748</th>\n",
       "      <th>803</th>\n",
       "      <th>2580</th>\n",
       "      <th>2407</th>\n",
       "      <th>2505</th>\n",
       "    </tr>\n",
       "  </thead>\n",
       "  <tbody>\n",
       "    <tr>\n",
       "      <td>feature</td>\n",
       "      <td>wardrobe</td>\n",
       "      <td>clutter</td>\n",
       "      <td>decluttering</td>\n",
       "      <td>anxiety</td>\n",
       "      <td>rid</td>\n",
       "      <td>declutter</td>\n",
       "      <td>furniture</td>\n",
       "      <td>therapy</td>\n",
       "      <td>friends</td>\n",
       "      <td>birthday</td>\n",
       "      <td>kitchen</td>\n",
       "      <td>deal</td>\n",
       "      <td>recently</td>\n",
       "      <td>possessions</td>\n",
       "      <td>purchased</td>\n",
       "    </tr>\n",
       "    <tr>\n",
       "      <td>coef</td>\n",
       "      <td>-2.13777</td>\n",
       "      <td>-2.0346</td>\n",
       "      <td>-1.93209</td>\n",
       "      <td>-1.91986</td>\n",
       "      <td>-1.91359</td>\n",
       "      <td>-1.66246</td>\n",
       "      <td>-1.6096</td>\n",
       "      <td>-1.56801</td>\n",
       "      <td>-1.54521</td>\n",
       "      <td>-1.53476</td>\n",
       "      <td>-1.53371</td>\n",
       "      <td>-1.52225</td>\n",
       "      <td>-1.51675</td>\n",
       "      <td>-1.49064</td>\n",
       "      <td>-1.42628</td>\n",
       "    </tr>\n",
       "  </tbody>\n",
       "</table>\n",
       "</div>"
      ],
      "text/plain": [
       "             3504     584           822      122      2713       820   \\\n",
       "feature  wardrobe  clutter  decluttering  anxiety      rid  declutter   \n",
       "coef     -2.13777  -2.0346      -1.93209 -1.91986 -1.91359   -1.66246   \n",
       "\n",
       "              1308     3225     1286      303      1748     803       2580  \\\n",
       "feature  furniture  therapy  friends  birthday  kitchen     deal  recently   \n",
       "coef       -1.6096 -1.56801 -1.54521  -1.53476 -1.53371 -1.52225  -1.51675   \n",
       "\n",
       "                2407       2505  \n",
       "feature  possessions  purchased  \n",
       "coef        -1.49064   -1.42628  "
      ]
     },
     "execution_count": 286,
     "metadata": {},
     "output_type": "execute_result"
    }
   ],
   "source": [
    "# top 15 negative coefficients\n",
    "model5_coef_df.sort_values('coef').head(15).T"
   ]
  },
  {
   "cell_type": "code",
   "execution_count": 287,
   "metadata": {},
   "outputs": [],
   "source": [
    "# save top 50 features to dataframe\n",
    "top_50_features_df = pd.concat([model5_coef_df.sort_values('coef', ascending=False).head(25),\n",
    "                             model5_coef_df.sort_values('coef').head(25)])"
   ]
  },
  {
   "cell_type": "code",
   "execution_count": 288,
   "metadata": {},
   "outputs": [
    {
     "data": {
      "image/png": "[encoded data removed]",
      "text/plain": [
       "<Figure size 864x720 with 1 Axes>"
      ]
     },
     "metadata": {
      "needs_background": "light"
     },
     "output_type": "display_data"
    }
   ],
   "source": [
    "plt.subplots(figsize=(12, 10))\n",
    "colors = [1 if c >= 0 else 0 for c in coef]\n",
    "palette = sns.xkcd_palette(['dusty purple','faded green'])\n",
    "sns.barplot(x=\"coef\", y=\"feature\", data=top_50_features_df,\n",
    "            hue=colors, palette=palette).set_title('Feature Weights (Top 50)');"
   ]
  },
  {
   "cell_type": "markdown",
   "metadata": {},
   "source": [
    "#### Interpreting numeric feature coefficients"
   ]
  },
  {
   "cell_type": "code",
   "execution_count": 292,
   "metadata": {},
   "outputs": [
    {
     "data": {
      "text/html": [
       "<div>\n",
       "<style scoped>\n",
       "    .dataframe tbody tr th:only-of-type {\n",
       "        vertical-align: middle;\n",
       "    }\n",
       "\n",
       "    .dataframe tbody tr th {\n",
       "        vertical-align: top;\n",
       "    }\n",
       "\n",
       "    .dataframe thead th {\n",
       "        text-align: right;\n",
       "    }\n",
       "</style>\n",
       "<table border=\"1\" class=\"dataframe\">\n",
       "  <thead>\n",
       "    <tr style=\"text-align: right;\">\n",
       "      <th></th>\n",
       "      <th>feature</th>\n",
       "      <th>coef</th>\n",
       "    </tr>\n",
       "  </thead>\n",
       "  <tbody>\n",
       "    <tr>\n",
       "      <td>0</td>\n",
       "      <td>num_title_words</td>\n",
       "      <td>0.005666</td>\n",
       "    </tr>\n",
       "    <tr>\n",
       "      <td>1</td>\n",
       "      <td>total_upvotes</td>\n",
       "      <td>0.001879</td>\n",
       "    </tr>\n",
       "    <tr>\n",
       "      <td>2</td>\n",
       "      <td>sentiment</td>\n",
       "      <td>-0.597937</td>\n",
       "    </tr>\n",
       "  </tbody>\n",
       "</table>\n",
       "</div>"
      ],
      "text/plain": [
       "           feature      coef\n",
       "0  num_title_words  0.005666\n",
       "1    total_upvotes  0.001879\n",
       "2        sentiment -0.597937"
      ]
     },
     "execution_count": 292,
     "metadata": {},
     "output_type": "execute_result"
    }
   ],
   "source": [
    "model5_coef_df.head(3)"
   ]
  },
  {
   "cell_type": "code",
   "execution_count": 293,
   "metadata": {},
   "outputs": [
    {
     "data": {
      "text/plain": [
       "0.549945003165458"
      ]
     },
     "execution_count": 293,
     "metadata": {},
     "output_type": "execute_result"
    }
   ],
   "source": [
    "# sentiment\n",
    "np.exp(-0.597937)"
   ]
  },
  {
   "cell_type": "markdown",
   "metadata": {},
   "source": [
    "As composite sentiment score increases by 1, the post is about 55% as likely to belong to r/Anticonsumption subreddit."
   ]
  },
  {
   "cell_type": "code",
   "execution_count": 294,
   "metadata": {},
   "outputs": [
    {
     "data": {
      "text/plain": [
       "1.0018807664266987"
      ]
     },
     "execution_count": 294,
     "metadata": {},
     "output_type": "execute_result"
    }
   ],
   "source": [
    "# total upvotes\n",
    "np.exp(0.001879)"
   ]
  },
  {
   "cell_type": "markdown",
   "metadata": {},
   "source": [
    "As upvotes increases by 1, the post is about 1.00188 more likely to belong to r/Anticonsumption subreddit. (It means there is not much difference between two subreddits)\n"
   ]
  },
  {
   "cell_type": "code",
   "execution_count": 295,
   "metadata": {},
   "outputs": [
    {
     "data": {
      "text/plain": [
       "1.00568208213745"
      ]
     },
     "execution_count": 295,
     "metadata": {},
     "output_type": "execute_result"
    }
   ],
   "source": [
    "# number of words in title\n",
    "np.exp(0.005666)"
   ]
  },
  {
   "cell_type": "markdown",
   "metadata": {},
   "source": [
    "As upvotes increases by 1, the post is about 1.005682 more likely to belong to r/Anticonsumption subreddit. (It means there is not much difference between two subreddits)"
   ]
  },
  {
   "cell_type": "code",
   "execution_count": 351,
   "metadata": {},
   "outputs": [
    {
     "data": {
      "text/plain": [
       "{'union': FeatureUnion(n_jobs=None,\n",
       "              transformer_list=[('numeric',\n",
       "                                 FunctionTransformer(accept_sparse=False,\n",
       "                                                     check_inverse=True,\n",
       "                                                     func=<function get_numeric at 0x00000268DC0B11F8>,\n",
       "                                                     inv_kw_args=None,\n",
       "                                                     inverse_func=None,\n",
       "                                                     kw_args=None,\n",
       "                                                     pass_y='deprecated',\n",
       "                                                     validate=False)),\n",
       "                                ('text',\n",
       "                                 Pipeline(memory=None,\n",
       "                                          steps=[('selector',\n",
       "                                                  FunctionTransformer(accept_sparse=False,\n",
       "                                                                      check_inverse=Tru...\n",
       "                                                  CountVectorizer(analyzer='word',\n",
       "                                                                  binary=False,\n",
       "                                                                  decode_error='strict',\n",
       "                                                                  dtype=<class 'numpy.int64'>,\n",
       "                                                                  encoding='utf-8',\n",
       "                                                                  input='content',\n",
       "                                                                  lowercase=True,\n",
       "                                                                  max_df=1.0,\n",
       "                                                                  max_features=None,\n",
       "                                                                  min_df=1,\n",
       "                                                                  ngram_range=(1,\n",
       "                                                                               1),\n",
       "                                                                  preprocessor=None,\n",
       "                                                                  stop_words=None,\n",
       "                                                                  strip_accents=None,\n",
       "                                                                  token_pattern='(?u)\\\\b\\\\w\\\\w+\\\\b',\n",
       "                                                                  tokenizer=None,\n",
       "                                                                  vocabulary=None))],\n",
       "                                          verbose=False))],\n",
       "              transformer_weights=None, verbose=False),\n",
       " 'logreg': LogisticRegression(C=1.0, class_weight=None, dual=False, fit_intercept=True,\n",
       "                    intercept_scaling=1, l1_ratio=None, max_iter=100,\n",
       "                    multi_class='warn', n_jobs=None, penalty='l2',\n",
       "                    random_state=None, solver='warn', tol=0.0001, verbose=0,\n",
       "                    warm_start=False)}"
      ]
     },
     "execution_count": 351,
     "metadata": {},
     "output_type": "execute_result"
    }
   ],
   "source": [
    "# Generate predictions.\n",
    "gs3_model.named_steps"
   ]
  },
  {
   "cell_type": "markdown",
   "metadata": {},
   "source": [
    "### Model_6: Decision Tree & Count Vectorizer"
   ]
  },
  {
   "cell_type": "code",
   "execution_count": 392,
   "metadata": {},
   "outputs": [],
   "source": [
    "# CountVectorizer (transformer) & DecisionTreeClassifier (estimator)\n",
    "\n",
    "pipe4 = Pipeline([\n",
    "        ('cvec', CountVectorizer()),\n",
    "        ('dt', DecisionTreeClassifier())\n",
    "])\n",
    "\n",
    "pipe4_params = {\n",
    "    'cvec__ngram_range': [(1,1), (1,2)],\n",
    "    'dt__criterion': ['gini', 'entropy'],\n",
    "    'dt__max_depth': [120, 136, 175],\n",
    "    'dt__min_samples_split': [7, 8, 10],\n",
    "    'dt__max_features': [None, 'log2', 'auto'],\n",
    "    }\n",
    "\n",
    "gs4 = GridSearchCV(pipe4,  # object to be optimized\n",
    "                   pipe4_params, # parameter values to be searched\n",
    "                   cv=5, # 5 folds\n",
    "                   verbose = 1,\n",
    "                   n_jobs = -1)"
   ]
  },
  {
   "cell_type": "code",
   "execution_count": 393,
   "metadata": {},
   "outputs": [
    {
     "name": "stdout",
     "output_type": "stream",
     "text": [
      "Fitting 5 folds for each of 108 candidates, totalling 540 fits\n"
     ]
    },
    {
     "name": "stderr",
     "output_type": "stream",
     "text": [
      "[Parallel(n_jobs=-1)]: Using backend LokyBackend with 8 concurrent workers.\n",
      "[Parallel(n_jobs=-1)]: Done  34 tasks      | elapsed:    0.7s\n",
      "[Parallel(n_jobs=-1)]: Done 315 tasks      | elapsed:    6.2s\n",
      "[Parallel(n_jobs=-1)]: Done 525 out of 540 | elapsed:   15.4s remaining:    0.3s\n",
      "[Parallel(n_jobs=-1)]: Done 540 out of 540 | elapsed:   15.7s finished\n"
     ]
    },
    {
     "data": {
      "text/plain": [
       "GridSearchCV(cv=5, error_score='raise-deprecating',\n",
       "             estimator=Pipeline(memory=None,\n",
       "                                steps=[('cvec',\n",
       "                                        CountVectorizer(analyzer='word',\n",
       "                                                        binary=False,\n",
       "                                                        decode_error='strict',\n",
       "                                                        dtype=<class 'numpy.int64'>,\n",
       "                                                        encoding='utf-8',\n",
       "                                                        input='content',\n",
       "                                                        lowercase=True,\n",
       "                                                        max_df=1.0,\n",
       "                                                        max_features=None,\n",
       "                                                        min_df=1,\n",
       "                                                        ngram_range=(1, 1),\n",
       "                                                        preprocessor=None,\n",
       "                                                        stop_words=None,\n",
       "                                                        strip_accents=None,\n",
       "                                                        tok...\n",
       "                                                               presort=False,\n",
       "                                                               random_state=None,\n",
       "                                                               splitter='best'))],\n",
       "                                verbose=False),\n",
       "             iid='warn', n_jobs=-1,\n",
       "             param_grid={'cvec__ngram_range': [(1, 1), (1, 2)],\n",
       "                         'dt__criterion': ['gini', 'entropy'],\n",
       "                         'dt__max_depth': [120, 136, 175],\n",
       "                         'dt__max_features': [None, 'log2', 'auto'],\n",
       "                         'dt__min_samples_split': [7, 8, 10]},\n",
       "             pre_dispatch='2*n_jobs', refit=True, return_train_score=False,\n",
       "             scoring=None, verbose=1)"
      ]
     },
     "execution_count": 393,
     "metadata": {},
     "output_type": "execute_result"
    }
   ],
   "source": [
    "gs4.fit(X_train, y_train)"
   ]
  },
  {
   "cell_type": "code",
   "execution_count": 395,
   "metadata": {},
   "outputs": [
    {
     "data": {
      "text/plain": [
       "0.815587734241908"
      ]
     },
     "execution_count": 395,
     "metadata": {},
     "output_type": "execute_result"
    }
   ],
   "source": [
    "# Best score\n",
    "gs4.best_score_"
   ]
  },
  {
   "cell_type": "code",
   "execution_count": 394,
   "metadata": {},
   "outputs": [
    {
     "name": "stdout",
     "output_type": "stream",
     "text": [
      "Model_6 Train score: 0.8856473594548552\n",
      "Model_6 Test score: 0.83873757025508\n"
     ]
    }
   ],
   "source": [
    "# Score the model on train set\n",
    "print(f\"Model_6 Train score: {gs4.score(X_train, y_train)}\")\n",
    "# Score the model on test set\n",
    "print(f\"Model_6 Test score: {gs4.score(X_test, y_test)}\")"
   ]
  },
  {
   "cell_type": "code",
   "execution_count": 391,
   "metadata": {},
   "outputs": [
    {
     "name": "stdout",
     "output_type": "stream",
     "text": [
      "Model_4 Best parameters: {'cvec__ngram_range': (1, 1), 'dt__criterion': 'gini', 'dt__max_depth': 136, 'dt__max_features': None, 'dt__min_samples_split': 7}\n"
     ]
    }
   ],
   "source": [
    "# Best parameter values\n",
    "print(f\"Model_4 Best parameters: {gs4.best_params_}\")"
   ]
  },
  {
   "cell_type": "markdown",
   "metadata": {},
   "source": [
    "My sixth model was initially underfit with 68% accuracy with a max_depth value of 54. I have gradually increased the depth value to optimize the performance. The best max_depth value is 136 with a better accuracy of 84% on test data. However k-folds score is relatively less and the model is overfit. Even though decision tree algorithms have a lot of advantages such as high speed, less preprocessing work, interpretability etc., they often suffer from high error due to variance. It needs more time and numerous trials to optimize the hyperparameters to get the best results. \"No free lunch.\""
   ]
  },
  {
   "cell_type": "markdown",
   "metadata": {},
   "source": [
    "### Conclusion"
   ]
  },
  {
   "cell_type": "markdown",
   "metadata": {},
   "source": [
    "The best models are Model_3 (Multinomial Naive Bayes) and Model_4 (Logistic Regression with numerical features). The accuracy rate on test data (.33 split) is respectively"
   ]
  },
  {
   "cell_type": "code",
   "execution_count": null,
   "metadata": {},
   "outputs": [],
   "source": []
  }
 ],
 "metadata": {
  "kernelspec": {
   "display_name": "Python 3",
   "language": "python",
   "name": "python3"
  },
  "language_info": {
   "codemirror_mode": {
    "name": "ipython",
    "version": 3
   },
   "file_extension": ".py",
   "mimetype": "text/x-python",
   "name": "python",
   "nbconvert_exporter": "python",
   "pygments_lexer": "ipython3",
   "version": "3.7.4"
  }
 },
 "nbformat": 4,
 "nbformat_minor": 2
}
