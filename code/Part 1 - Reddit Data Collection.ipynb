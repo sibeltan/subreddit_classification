{
 "cells": [
  {
   "cell_type": "markdown",
   "metadata": {},
   "source": [
    "# Project 3 - Reddit Web APIs & NLP Classification"
   ]
  },
  {
   "cell_type": "markdown",
   "metadata": {},
   "source": [
    "I will use submission data from Reddit app, to build a classificiation model, predicting which of two subreddits, r/Anticonsumption and r/minimalism a given submission belong to, in order to improve campaign performance of environmental organizations."
   ]
  },
  {
   "cell_type": "markdown",
   "metadata": {},
   "source": [
    "# Part 1 - Reddit Data Collection"
   ]
  },
  {
   "cell_type": "markdown",
   "metadata": {},
   "source": [
    "This notebook will focus on collecting posts from two subredits using the Python Reddit API Wrapper (PRAW). \n",
    "Subreddits are listed below:\n",
    "\n",
    "1) **/r/Anticonsumption**  \n",
    "189k members  \n",
    "This subredit is primarily for criticizing, questioning, and discussing consumerism and current consumption standards. Consumerism, Planned Obsolescence, Economic Materialism, Inefficiency, Marketing, Advertising, and Branding, Sustainability, Exploitation, Conspicuous Consumption, Intellectual Property, etc.  \n",
    "\n",
    "2) **/r/minimalism**  \n",
    "381k members  \n",
    "This subredit is primarily for sharing insights about minimalist lifestyle including decluttering of possessions and thoughts as well as minimal art, design, and music."
   ]
  },
  {
   "cell_type": "markdown",
   "metadata": {},
   "source": [
    "Before starting the project, my assumption about these two subreddits is that both topics are advising similar things such as reducing consumption, getting rid of possessions that we don't need, and live a more simple, less materialistic lifestyle. However, the difference between two is saving the world vs saving yourself. Anticonsumption is based on environment, stopping climate change, respecting nature, leaving a legacy to future generations; minimalism is more about living a quality lifestyle, getting rid of financial burdens, tuning out the noise in your life, living life based on experiences rather than worldly possessions.  \n",
    "To summarize, anticonsumption is an activism, minimalism is a movement.\n",
    "\n",
    "Let's see if my assumption is correct or these subreddits are about something else."
   ]
  },
  {
   "cell_type": "code",
   "execution_count": 1,
   "metadata": {},
   "outputs": [],
   "source": [
    "# Imports\n",
    "import pandas as pd\n",
    "import requests, json, time\n",
    "from datetime import datetime\n",
    "\n",
    "import praw\n",
    "\n",
    "import os"
   ]
  },
  {
   "cell_type": "code",
   "execution_count": 2,
   "metadata": {},
   "outputs": [],
   "source": [
    "# read credentials file\n",
    "\n",
    "creds_file = open('creds.json', 'r')\n",
    "\n",
    "# define credentials dictionary\n",
    "# id, secret, username, password\n",
    "\n",
    "reddit_creds = json.loads(creds_file.read())"
   ]
  },
  {
   "cell_type": "markdown",
   "metadata": {},
   "source": [
    "Reddit credentials file contains a dictionary with key-value pairs of id, secret, username, and password obtained via Reddit user account. For further inmormation, please check README.md document."
   ]
  },
  {
   "cell_type": "code",
   "execution_count": 3,
   "metadata": {},
   "outputs": [],
   "source": [
    "# instantiate Reddit object using praw library\n",
    "\n",
    "reddit = praw.Reddit(\n",
    "    client_id     = reddit_creds['id'],\n",
    "    client_secret = reddit_creds['secret'],\n",
    "    username      = reddit_creds['user'],\n",
    "    password      = reddit_creds['pass'],\n",
    "    user_agent    = 'pink panther'\n",
    ")"
   ]
  },
  {
   "cell_type": "code",
   "execution_count": 4,
   "metadata": {},
   "outputs": [],
   "source": [
    "# get first subreddit \"Anticomsumption\"\n",
    "\n",
    "anticonsumption = reddit.subreddit('Anticonsumption')"
   ]
  },
  {
   "cell_type": "code",
   "execution_count": 5,
   "metadata": {},
   "outputs": [
    {
     "name": "stdout",
     "output_type": "stream",
     "text": [
      "Created UTC: 1253909397.0 \n",
      "Description: Anticon is a sub for criticizing and questioning current consumption standards\n"
     ]
    }
   ],
   "source": [
    "# check few attributes\n",
    "\n",
    "print(f\"Created UTC: {anticonsumption.created_utc} \\nDescription: {anticonsumption.description.split('. ')[0]}\")"
   ]
  },
  {
   "cell_type": "code",
   "execution_count": 6,
   "metadata": {},
   "outputs": [],
   "source": [
    "# get second subreddit \"minimalism\"\n",
    "\n",
    "minimalism = reddit.subreddit('minimalism')"
   ]
  },
  {
   "cell_type": "code",
   "execution_count": 7,
   "metadata": {},
   "outputs": [
    {
     "name": "stdout",
     "output_type": "stream",
     "text": [
      "Created UTC: 1245864140.0 \n",
      "Description: ****\n",
      "\n",
      "# For those who appreciate simplicity in any form\n"
     ]
    }
   ],
   "source": [
    "# check few attributes\n",
    "\n",
    "print(f\"Created UTC: {minimalism.created_utc} \\nDescription: {minimalism.description.split('.')[0]}\")"
   ]
  },
  {
   "cell_type": "code",
   "execution_count": 8,
   "metadata": {},
   "outputs": [],
   "source": [
    "# create a list of newest 1000 Anticonsumption submissions\n",
    "\n",
    "new_anticons = [sub for sub in anticonsumption.new(limit=1500)]\n",
    "# hot_anticons = [sub for sub in anticonsumption.hot(limit=1500)]"
   ]
  },
  {
   "cell_type": "code",
   "execution_count": 9,
   "metadata": {},
   "outputs": [],
   "source": [
    "# create a list of newest 1000 minimalism submissions\n",
    "\n",
    "new_minimals = [sub for sub in minimalism.new(limit=1500)]\n",
    "# hot_minimals = [sub for sub in minimalism.hot(limit=1500)]"
   ]
  },
  {
   "cell_type": "code",
   "execution_count": 10,
   "metadata": {},
   "outputs": [],
   "source": [
    "# define a function to convert UTC to local date time format\n",
    "\n",
    "def convert_utc_to_datetime(utc):\n",
    "    return datetime.fromtimestamp(utc)"
   ]
  },
  {
   "cell_type": "code",
   "execution_count": 11,
   "metadata": {},
   "outputs": [],
   "source": [
    "# create an Anticonsumption dictionary with column name (key) and list of values (value)\n",
    "# columns: Subreddit, Title, Body, Created, Total Comments, Total Upvotes\n",
    "\n",
    "anticon_dict = {\n",
    "    'subreddit': [post.subreddit for post in new_anticons],\n",
    "    'title': [post.title for post in new_anticons],\n",
    "    'body': [post.selftext for post in new_anticons],\n",
    "    'created': [convert_utc_to_datetime(post.created_utc) for post in new_anticons],\n",
    "    'total_comments': [post.num_comments for post in new_anticons],\n",
    "    'total_upvotes': [post.score for post in new_anticons]\n",
    "    }\n",
    "\n",
    "# convert anticon dictionary to dataframe\n",
    "\n",
    "anticon_df = pd.DataFrame(anticon_dict)"
   ]
  },
  {
   "cell_type": "code",
   "execution_count": 12,
   "metadata": {},
   "outputs": [],
   "source": [
    "# create a minimalism dictionary with column name (key) and list of values (value)\n",
    "# columns: Subreddit, Title, Body, Created, Total Comments, Total Upvotes\n",
    "\n",
    "minimal_dict = {\n",
    "    'subreddit': [post.subreddit for post in new_minimals],\n",
    "    'title': [post.title for post in new_minimals],\n",
    "    'body': [post.selftext for post in new_minimals],\n",
    "    'created': [convert_utc_to_datetime(post.created_utc) for post in new_minimals],\n",
    "    'total_comments': [post.num_comments for post in new_minimals],\n",
    "    'total_upvotes': [post.score for post in new_minimals]\n",
    "}\n",
    "\n",
    "# convert minimal dictionary to dataframe\n",
    "\n",
    "minimal_df = pd.DataFrame(minimal_dict)"
   ]
  },
  {
   "cell_type": "code",
   "execution_count": 13,
   "metadata": {},
   "outputs": [],
   "source": [
    "# define a funtion to save csv files with timestamp for uniqueness\n",
    "\n",
    "def create_csv(df, subreddit):\n",
    "    timestamp = datetime.now().strftime('_%Y-%m-%d-%H-%M-%S')\n",
    "#     os.mkdir('./csv_folder/' + timestamp)\n",
    "    df.to_csv('./csv_folder/' + subreddit + timestamp + '.csv', index=False)"
   ]
  },
  {
   "cell_type": "code",
   "execution_count": 14,
   "metadata": {},
   "outputs": [],
   "source": [
    "# save anticonsumption csv\n",
    "\n",
    "create_csv(anticon_df, 'anticonsumption')"
   ]
  },
  {
   "cell_type": "code",
   "execution_count": 15,
   "metadata": {},
   "outputs": [],
   "source": [
    "# save minimalism csv\n",
    "\n",
    "create_csv(minimal_df, 'minimalism')"
   ]
  }
 ],
 "metadata": {
  "kernelspec": {
   "display_name": "Python 3",
   "language": "python",
   "name": "python3"
  },
  "language_info": {
   "codemirror_mode": {
    "name": "ipython",
    "version": 3
   },
   "file_extension": ".py",
   "mimetype": "text/x-python",
   "name": "python",
   "nbconvert_exporter": "python",
   "pygments_lexer": "ipython3",
   "version": "3.7.4"
  }
 },
 "nbformat": 4,
 "nbformat_minor": 2
}
