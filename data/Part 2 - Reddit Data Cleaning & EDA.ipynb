{
 "cells": [
  {
   "cell_type": "markdown",
   "metadata": {},
   "source": [
    "# Project 3 - Part 2 - Reddit Data Cleaning & EDA"
   ]
  },
  {
   "cell_type": "markdown",
   "metadata": {},
   "source": [
    "This notebook will focus on data cleaning, exploratory data analysis (EDA) and natural language processing (NLP) on Anticonsumption and Minimalism subreddits we have scraped via Reddit API in Part - 1 notebook."
   ]
  },
  {
   "cell_type": "code",
   "execution_count": 1,
   "metadata": {},
   "outputs": [],
   "source": [
    "import pandas as pd\n",
    "import numpy as np\n",
    "import matplotlib.pyplot as plt\n",
    "import seaborn as sns\n",
    "\n",
    "import wordcloud\n",
    "from wordcloud import WordCloud, STOPWORDS\n",
    "\n",
    "from sklearn.feature_extraction.text import CountVectorizer, ENGLISH_STOP_WORDS\n",
    "\n",
    "from nltk.sentiment.vader import SentimentIntensityAnalyzer"
   ]
  },
  {
   "cell_type": "code",
   "execution_count": 2,
   "metadata": {},
   "outputs": [],
   "source": [
    "# Data from respective subreddits\n",
    "\n",
    "anticon1_df = pd.read_csv('./csv_folder/anticonsumption_2019-10-12-19-40-11.csv')\n",
    "anticon2_df = pd.read_csv('./csv_folder/anticonsumption_2019-10-13-18-48-20.csv')\n",
    "anticon3_df = pd.read_csv('./csv_folder/anticonsumption_2019-10-14-17-15-18.csv')\n",
    "anticon4_df = pd.read_csv('./csv_folder/anticonsumption_2019-10-15-16-07-26.csv')\n",
    "anticon5_df = pd.read_csv('./csv_folder/anticonsumption_2019-10-16-03-37-26.csv')\n",
    "anticon6_df = pd.read_csv('./csv_folder/anticonsumption_2019-10-17-05-56-48.csv')\n",
    "\n",
    "minimal1_df = pd.read_csv('./csv_folder/minimalism_2019-10-12-19-40-11.csv')\n",
    "minimal2_df = pd.read_csv('./csv_folder/minimalism_2019-10-13-18-48-20.csv')\n",
    "minimal3_df = pd.read_csv('./csv_folder/minimalism_2019-10-14-17-15-18.csv')\n",
    "minimal4_df = pd.read_csv('./csv_folder/minimalism_2019-10-15-16-07-27.csv')\n",
    "minimal5_df = pd.read_csv('./csv_folder/minimalism_2019-10-16-03-37-27.csv')\n",
    "minimal6_df = pd.read_csv('./csv_folder/minimalism_2019-10-17-05-56-48.csv')"
   ]
  },
  {
   "cell_type": "code",
   "execution_count": 3,
   "metadata": {},
   "outputs": [],
   "source": [
    "anticon_df = pd.concat([anticon1_df, anticon2_df, anticon3_df, anticon4_df, anticon5_df, anticon6_df])\n",
    "anticon_df = anticon_df.drop_duplicates().reset_index(drop=True)"
   ]
  },
  {
   "cell_type": "code",
   "execution_count": 4,
   "metadata": {},
   "outputs": [],
   "source": [
    "minimal_df = pd.concat([minimal1_df, minimal2_df, minimal3_df, minimal4_df, minimal5_df, minimal6_df])\n",
    "minimal_df = minimal_df.drop_duplicates().reset_index(drop=True)"
   ]
  },
  {
   "cell_type": "code",
   "execution_count": 5,
   "metadata": {},
   "outputs": [
    {
     "data": {
      "text/html": [
       "<div>\n",
       "<style scoped>\n",
       "    .dataframe tbody tr th:only-of-type {\n",
       "        vertical-align: middle;\n",
       "    }\n",
       "\n",
       "    .dataframe tbody tr th {\n",
       "        vertical-align: top;\n",
       "    }\n",
       "\n",
       "    .dataframe thead th {\n",
       "        text-align: right;\n",
       "    }\n",
       "</style>\n",
       "<table border=\"1\" class=\"dataframe\">\n",
       "  <thead>\n",
       "    <tr style=\"text-align: right;\">\n",
       "      <th></th>\n",
       "      <th>subreddit</th>\n",
       "      <th>title</th>\n",
       "      <th>body</th>\n",
       "      <th>created</th>\n",
       "      <th>total_comments</th>\n",
       "      <th>total_upvotes</th>\n",
       "    </tr>\n",
       "  </thead>\n",
       "  <tbody>\n",
       "    <tr>\n",
       "      <td>0</td>\n",
       "      <td>Anticonsumption</td>\n",
       "      <td>Great idea</td>\n",
       "      <td>NaN</td>\n",
       "      <td>2019-10-12 19:26:23</td>\n",
       "      <td>0</td>\n",
       "      <td>3</td>\n",
       "    </tr>\n",
       "    <tr>\n",
       "      <td>1</td>\n",
       "      <td>Anticonsumption</td>\n",
       "      <td>Erik put a straw through his sippy cup. Dont' ...</td>\n",
       "      <td>NaN</td>\n",
       "      <td>2019-10-12 17:23:52</td>\n",
       "      <td>5</td>\n",
       "      <td>1</td>\n",
       "    </tr>\n",
       "    <tr>\n",
       "      <td>2</td>\n",
       "      <td>Anticonsumption</td>\n",
       "      <td>Why, just why?</td>\n",
       "      <td>NaN</td>\n",
       "      <td>2019-10-12 17:13:44</td>\n",
       "      <td>0</td>\n",
       "      <td>0</td>\n",
       "    </tr>\n",
       "    <tr>\n",
       "      <td>3</td>\n",
       "      <td>Anticonsumption</td>\n",
       "      <td>Local pho shop smooths edges of chipped bowls ...</td>\n",
       "      <td>NaN</td>\n",
       "      <td>2019-10-12 15:34:28</td>\n",
       "      <td>7</td>\n",
       "      <td>166</td>\n",
       "    </tr>\n",
       "    <tr>\n",
       "      <td>4</td>\n",
       "      <td>Anticonsumption</td>\n",
       "      <td>Have to agree.</td>\n",
       "      <td>NaN</td>\n",
       "      <td>2019-10-12 13:44:49</td>\n",
       "      <td>1</td>\n",
       "      <td>39</td>\n",
       "    </tr>\n",
       "  </tbody>\n",
       "</table>\n",
       "</div>"
      ],
      "text/plain": [
       "         subreddit                                              title body  \\\n",
       "0  Anticonsumption                                         Great idea  NaN   \n",
       "1  Anticonsumption  Erik put a straw through his sippy cup. Dont' ...  NaN   \n",
       "2  Anticonsumption                                     Why, just why?  NaN   \n",
       "3  Anticonsumption  Local pho shop smooths edges of chipped bowls ...  NaN   \n",
       "4  Anticonsumption                                     Have to agree.  NaN   \n",
       "\n",
       "               created  total_comments  total_upvotes  \n",
       "0  2019-10-12 19:26:23               0              3  \n",
       "1  2019-10-12 17:23:52               5              1  \n",
       "2  2019-10-12 17:13:44               0              0  \n",
       "3  2019-10-12 15:34:28               7            166  \n",
       "4  2019-10-12 13:44:49               1             39  "
      ]
     },
     "execution_count": 5,
     "metadata": {},
     "output_type": "execute_result"
    }
   ],
   "source": [
    "anticon_df.head()"
   ]
  },
  {
   "cell_type": "code",
   "execution_count": 6,
   "metadata": {},
   "outputs": [
    {
     "data": {
      "text/html": [
       "<div>\n",
       "<style scoped>\n",
       "    .dataframe tbody tr th:only-of-type {\n",
       "        vertical-align: middle;\n",
       "    }\n",
       "\n",
       "    .dataframe tbody tr th {\n",
       "        vertical-align: top;\n",
       "    }\n",
       "\n",
       "    .dataframe thead th {\n",
       "        text-align: right;\n",
       "    }\n",
       "</style>\n",
       "<table border=\"1\" class=\"dataframe\">\n",
       "  <thead>\n",
       "    <tr style=\"text-align: right;\">\n",
       "      <th></th>\n",
       "      <th>subreddit</th>\n",
       "      <th>title</th>\n",
       "      <th>body</th>\n",
       "      <th>created</th>\n",
       "      <th>total_comments</th>\n",
       "      <th>total_upvotes</th>\n",
       "    </tr>\n",
       "  </thead>\n",
       "  <tbody>\n",
       "    <tr>\n",
       "      <td>0</td>\n",
       "      <td>minimalism</td>\n",
       "      <td>Book Recommendations</td>\n",
       "      <td>Hey all, I’m new to the whole minimalism thing...</td>\n",
       "      <td>2019-10-12 12:14:26</td>\n",
       "      <td>21</td>\n",
       "      <td>60</td>\n",
       "    </tr>\n",
       "    <tr>\n",
       "      <td>1</td>\n",
       "      <td>minimalism</td>\n",
       "      <td>WeeklyThread | Screenshot Saturday October 12,...</td>\n",
       "      <td>Got a new style for your home screen? Or maybe...</td>\n",
       "      <td>2019-10-12 09:32:37</td>\n",
       "      <td>1</td>\n",
       "      <td>1</td>\n",
       "    </tr>\n",
       "    <tr>\n",
       "      <td>2</td>\n",
       "      <td>minimalism</td>\n",
       "      <td>Purging unused hobby gear</td>\n",
       "      <td>I have a road bike, a mountain bike, scuba gea...</td>\n",
       "      <td>2019-10-12 08:49:59</td>\n",
       "      <td>12</td>\n",
       "      <td>20</td>\n",
       "    </tr>\n",
       "    <tr>\n",
       "      <td>3</td>\n",
       "      <td>minimalism</td>\n",
       "      <td>Do collections as a hobby really add much valu...</td>\n",
       "      <td>I understand if you really like say for exampl...</td>\n",
       "      <td>2019-10-11 21:20:16</td>\n",
       "      <td>62</td>\n",
       "      <td>131</td>\n",
       "    </tr>\n",
       "    <tr>\n",
       "      <td>4</td>\n",
       "      <td>minimalism</td>\n",
       "      <td>Minimalist Clothing Brand</td>\n",
       "      <td>I'm developing a clothing brand for minimalist...</td>\n",
       "      <td>2019-10-11 12:40:13</td>\n",
       "      <td>15</td>\n",
       "      <td>0</td>\n",
       "    </tr>\n",
       "  </tbody>\n",
       "</table>\n",
       "</div>"
      ],
      "text/plain": [
       "    subreddit                                              title  \\\n",
       "0  minimalism                               Book Recommendations   \n",
       "1  minimalism  WeeklyThread | Screenshot Saturday October 12,...   \n",
       "2  minimalism                          Purging unused hobby gear   \n",
       "3  minimalism  Do collections as a hobby really add much valu...   \n",
       "4  minimalism                          Minimalist Clothing Brand   \n",
       "\n",
       "                                                body              created  \\\n",
       "0  Hey all, I’m new to the whole minimalism thing...  2019-10-12 12:14:26   \n",
       "1  Got a new style for your home screen? Or maybe...  2019-10-12 09:32:37   \n",
       "2  I have a road bike, a mountain bike, scuba gea...  2019-10-12 08:49:59   \n",
       "3  I understand if you really like say for exampl...  2019-10-11 21:20:16   \n",
       "4  I'm developing a clothing brand for minimalist...  2019-10-11 12:40:13   \n",
       "\n",
       "   total_comments  total_upvotes  \n",
       "0              21             60  \n",
       "1               1              1  \n",
       "2              12             20  \n",
       "3              62            131  \n",
       "4              15              0  "
      ]
     },
     "execution_count": 6,
     "metadata": {},
     "output_type": "execute_result"
    }
   ],
   "source": [
    "minimal_df.head()"
   ]
  },
  {
   "cell_type": "code",
   "execution_count": 7,
   "metadata": {},
   "outputs": [
    {
     "data": {
      "text/plain": [
       "(3696, 6)"
      ]
     },
     "execution_count": 7,
     "metadata": {},
     "output_type": "execute_result"
    }
   ],
   "source": [
    "anticon_df.shape"
   ]
  },
  {
   "cell_type": "code",
   "execution_count": 8,
   "metadata": {},
   "outputs": [
    {
     "data": {
      "text/plain": [
       "(3313, 6)"
      ]
     },
     "execution_count": 8,
     "metadata": {},
     "output_type": "execute_result"
    }
   ],
   "source": [
    "minimal_df.shape"
   ]
  },
  {
   "cell_type": "code",
   "execution_count": 9,
   "metadata": {},
   "outputs": [
    {
     "data": {
      "text/plain": [
       "3201"
      ]
     },
     "execution_count": 9,
     "metadata": {},
     "output_type": "execute_result"
    }
   ],
   "source": [
    "anticon_df['body'].isnull().sum()"
   ]
  },
  {
   "cell_type": "code",
   "execution_count": 10,
   "metadata": {},
   "outputs": [
    {
     "data": {
      "text/plain": [
       "132"
      ]
     },
     "execution_count": 10,
     "metadata": {},
     "output_type": "execute_result"
    }
   ],
   "source": [
    "minimal_df['body'].isnull().sum()"
   ]
  },
  {
   "cell_type": "code",
   "execution_count": 11,
   "metadata": {},
   "outputs": [],
   "source": [
    "# Let's consider \"anticonsumption\" is the target value since it represents the majority class\n",
    "anticon_df['target'] = 1"
   ]
  },
  {
   "cell_type": "code",
   "execution_count": 12,
   "metadata": {},
   "outputs": [],
   "source": [
    "minimal_df['target'] = 0"
   ]
  },
  {
   "cell_type": "code",
   "execution_count": 13,
   "metadata": {},
   "outputs": [
    {
     "data": {
      "text/plain": [
       "(7009, 7)"
      ]
     },
     "execution_count": 13,
     "metadata": {},
     "output_type": "execute_result"
    }
   ],
   "source": [
    "combined_subs_df = pd.concat([anticon_df, minimal_df])\n",
    "combined_subs_df.shape"
   ]
  },
  {
   "cell_type": "code",
   "execution_count": 14,
   "metadata": {},
   "outputs": [
    {
     "data": {
      "text/plain": [
       "1    0.527322\n",
       "0    0.472678\n",
       "Name: target, dtype: float64"
      ]
     },
     "execution_count": 14,
     "metadata": {},
     "output_type": "execute_result"
    }
   ],
   "source": [
    "combined_subs_df['target'].value_counts(normalize=True)"
   ]
  },
  {
   "cell_type": "markdown",
   "metadata": {},
   "source": [
    "The classes are perfectly balanced, good to go."
   ]
  },
  {
   "cell_type": "code",
   "execution_count": 15,
   "metadata": {},
   "outputs": [
    {
     "data": {
      "text/plain": [
       "(7009, 7)"
      ]
     },
     "execution_count": 15,
     "metadata": {},
     "output_type": "execute_result"
    }
   ],
   "source": [
    "# Built-in function to drop duplicate rows\n",
    "combined_subs_df = combined_subs_df.drop_duplicates()\n",
    "\n",
    "# Resetting index\n",
    "combined_subs_df = combined_subs_df.reset_index(drop=True)\n",
    "\n",
    "combined_subs_df.shape"
   ]
  },
  {
   "cell_type": "code",
   "execution_count": 16,
   "metadata": {},
   "outputs": [
    {
     "name": "stdout",
     "output_type": "stream",
     "text": [
      "<class 'pandas.core.frame.DataFrame'>\n",
      "RangeIndex: 7009 entries, 0 to 7008\n",
      "Data columns (total 7 columns):\n",
      "subreddit         7009 non-null object\n",
      "title             7009 non-null object\n",
      "body              3676 non-null object\n",
      "created           7009 non-null object\n",
      "total_comments    7009 non-null int64\n",
      "total_upvotes     7009 non-null int64\n",
      "target            7009 non-null int64\n",
      "dtypes: int64(3), object(4)\n",
      "memory usage: 383.4+ KB\n"
     ]
    }
   ],
   "source": [
    "combined_subs_df.info()"
   ]
  },
  {
   "cell_type": "code",
   "execution_count": 17,
   "metadata": {},
   "outputs": [
    {
     "data": {
      "text/html": [
       "<div>\n",
       "<style scoped>\n",
       "    .dataframe tbody tr th:only-of-type {\n",
       "        vertical-align: middle;\n",
       "    }\n",
       "\n",
       "    .dataframe tbody tr th {\n",
       "        vertical-align: top;\n",
       "    }\n",
       "\n",
       "    .dataframe thead th {\n",
       "        text-align: right;\n",
       "    }\n",
       "</style>\n",
       "<table border=\"1\" class=\"dataframe\">\n",
       "  <thead>\n",
       "    <tr style=\"text-align: right;\">\n",
       "      <th></th>\n",
       "      <th>total_comments</th>\n",
       "      <th>total_upvotes</th>\n",
       "      <th>target</th>\n",
       "    </tr>\n",
       "  </thead>\n",
       "  <tbody>\n",
       "    <tr>\n",
       "      <td>count</td>\n",
       "      <td>7009.000000</td>\n",
       "      <td>7009.000000</td>\n",
       "      <td>7009.000000</td>\n",
       "    </tr>\n",
       "    <tr>\n",
       "      <td>mean</td>\n",
       "      <td>26.307747</td>\n",
       "      <td>230.128977</td>\n",
       "      <td>0.527322</td>\n",
       "    </tr>\n",
       "    <tr>\n",
       "      <td>std</td>\n",
       "      <td>45.459945</td>\n",
       "      <td>566.463256</td>\n",
       "      <td>0.499289</td>\n",
       "    </tr>\n",
       "    <tr>\n",
       "      <td>min</td>\n",
       "      <td>0.000000</td>\n",
       "      <td>0.000000</td>\n",
       "      <td>0.000000</td>\n",
       "    </tr>\n",
       "    <tr>\n",
       "      <td>25%</td>\n",
       "      <td>4.000000</td>\n",
       "      <td>9.000000</td>\n",
       "      <td>0.000000</td>\n",
       "    </tr>\n",
       "    <tr>\n",
       "      <td>50%</td>\n",
       "      <td>11.000000</td>\n",
       "      <td>30.000000</td>\n",
       "      <td>1.000000</td>\n",
       "    </tr>\n",
       "    <tr>\n",
       "      <td>75%</td>\n",
       "      <td>29.000000</td>\n",
       "      <td>152.000000</td>\n",
       "      <td>1.000000</td>\n",
       "    </tr>\n",
       "    <tr>\n",
       "      <td>max</td>\n",
       "      <td>600.000000</td>\n",
       "      <td>6718.000000</td>\n",
       "      <td>1.000000</td>\n",
       "    </tr>\n",
       "  </tbody>\n",
       "</table>\n",
       "</div>"
      ],
      "text/plain": [
       "       total_comments  total_upvotes       target\n",
       "count     7009.000000    7009.000000  7009.000000\n",
       "mean        26.307747     230.128977     0.527322\n",
       "std         45.459945     566.463256     0.499289\n",
       "min          0.000000       0.000000     0.000000\n",
       "25%          4.000000       9.000000     0.000000\n",
       "50%         11.000000      30.000000     1.000000\n",
       "75%         29.000000     152.000000     1.000000\n",
       "max        600.000000    6718.000000     1.000000"
      ]
     },
     "execution_count": 17,
     "metadata": {},
     "output_type": "execute_result"
    }
   ],
   "source": [
    "combined_subs_df.describe()"
   ]
  },
  {
   "cell_type": "markdown",
   "metadata": {},
   "source": [
    "I scraped both Title and Body texts in two separate columns. However, there are 3201 nulls out of 3696 posts in Anticonsumption subreddit which means the users prefer entering the text only in Title section. Even though Minimalism subreddit have very few null values, I can't compare body text since they are not equally distributed in both subreddits. I will only add Title as a feature and based on the most common words outcome, I will decide if I need to incorparate the top level comments as well."
   ]
  },
  {
   "cell_type": "code",
   "execution_count": 18,
   "metadata": {},
   "outputs": [],
   "source": [
    "# Create a new column that counts words in 'title' column\n",
    "combined_subs_df['num_title_words'] = combined_subs_df['title'].apply(lambda x: len(x.split()))"
   ]
  },
  {
   "cell_type": "code",
   "execution_count": 19,
   "metadata": {},
   "outputs": [],
   "source": [
    "# Create a new column that counts words in 'title' column\n",
    "combined_subs_df['num_title_chars'] = combined_subs_df['title'].apply(len)"
   ]
  },
  {
   "cell_type": "code",
   "execution_count": 20,
   "metadata": {},
   "outputs": [
    {
     "data": {
      "text/html": [
       "<div>\n",
       "<style scoped>\n",
       "    .dataframe tbody tr th:only-of-type {\n",
       "        vertical-align: middle;\n",
       "    }\n",
       "\n",
       "    .dataframe tbody tr th {\n",
       "        vertical-align: top;\n",
       "    }\n",
       "\n",
       "    .dataframe thead th {\n",
       "        text-align: right;\n",
       "    }\n",
       "</style>\n",
       "<table border=\"1\" class=\"dataframe\">\n",
       "  <thead>\n",
       "    <tr style=\"text-align: right;\">\n",
       "      <th></th>\n",
       "      <th>subreddit</th>\n",
       "      <th>title</th>\n",
       "      <th>body</th>\n",
       "      <th>created</th>\n",
       "      <th>total_comments</th>\n",
       "      <th>total_upvotes</th>\n",
       "      <th>target</th>\n",
       "      <th>num_title_words</th>\n",
       "      <th>num_title_chars</th>\n",
       "    </tr>\n",
       "  </thead>\n",
       "  <tbody>\n",
       "    <tr>\n",
       "      <td>0</td>\n",
       "      <td>Anticonsumption</td>\n",
       "      <td>Great idea</td>\n",
       "      <td>NaN</td>\n",
       "      <td>2019-10-12 19:26:23</td>\n",
       "      <td>0</td>\n",
       "      <td>3</td>\n",
       "      <td>1</td>\n",
       "      <td>2</td>\n",
       "      <td>10</td>\n",
       "    </tr>\n",
       "    <tr>\n",
       "      <td>1</td>\n",
       "      <td>Anticonsumption</td>\n",
       "      <td>Erik put a straw through his sippy cup. Dont' ...</td>\n",
       "      <td>NaN</td>\n",
       "      <td>2019-10-12 17:23:52</td>\n",
       "      <td>5</td>\n",
       "      <td>1</td>\n",
       "      <td>1</td>\n",
       "      <td>12</td>\n",
       "      <td>59</td>\n",
       "    </tr>\n",
       "    <tr>\n",
       "      <td>2</td>\n",
       "      <td>Anticonsumption</td>\n",
       "      <td>Why, just why?</td>\n",
       "      <td>NaN</td>\n",
       "      <td>2019-10-12 17:13:44</td>\n",
       "      <td>0</td>\n",
       "      <td>0</td>\n",
       "      <td>1</td>\n",
       "      <td>3</td>\n",
       "      <td>14</td>\n",
       "    </tr>\n",
       "    <tr>\n",
       "      <td>3</td>\n",
       "      <td>Anticonsumption</td>\n",
       "      <td>Local pho shop smooths edges of chipped bowls ...</td>\n",
       "      <td>NaN</td>\n",
       "      <td>2019-10-12 15:34:28</td>\n",
       "      <td>7</td>\n",
       "      <td>166</td>\n",
       "      <td>1</td>\n",
       "      <td>12</td>\n",
       "      <td>67</td>\n",
       "    </tr>\n",
       "    <tr>\n",
       "      <td>4</td>\n",
       "      <td>Anticonsumption</td>\n",
       "      <td>Have to agree.</td>\n",
       "      <td>NaN</td>\n",
       "      <td>2019-10-12 13:44:49</td>\n",
       "      <td>1</td>\n",
       "      <td>39</td>\n",
       "      <td>1</td>\n",
       "      <td>3</td>\n",
       "      <td>14</td>\n",
       "    </tr>\n",
       "  </tbody>\n",
       "</table>\n",
       "</div>"
      ],
      "text/plain": [
       "         subreddit                                              title body  \\\n",
       "0  Anticonsumption                                         Great idea  NaN   \n",
       "1  Anticonsumption  Erik put a straw through his sippy cup. Dont' ...  NaN   \n",
       "2  Anticonsumption                                     Why, just why?  NaN   \n",
       "3  Anticonsumption  Local pho shop smooths edges of chipped bowls ...  NaN   \n",
       "4  Anticonsumption                                     Have to agree.  NaN   \n",
       "\n",
       "               created  total_comments  total_upvotes  target  \\\n",
       "0  2019-10-12 19:26:23               0              3       1   \n",
       "1  2019-10-12 17:23:52               5              1       1   \n",
       "2  2019-10-12 17:13:44               0              0       1   \n",
       "3  2019-10-12 15:34:28               7            166       1   \n",
       "4  2019-10-12 13:44:49               1             39       1   \n",
       "\n",
       "   num_title_words  num_title_chars  \n",
       "0                2               10  \n",
       "1               12               59  \n",
       "2                3               14  \n",
       "3               12               67  \n",
       "4                3               14  "
      ]
     },
     "execution_count": 20,
     "metadata": {},
     "output_type": "execute_result"
    }
   ],
   "source": [
    "combined_subs_df.head()"
   ]
  },
  {
   "cell_type": "code",
   "execution_count": 21,
   "metadata": {},
   "outputs": [
    {
     "data": {
      "text/plain": [
       "1    0.527322\n",
       "0    0.472678\n",
       "Name: target, dtype: float64"
      ]
     },
     "execution_count": 21,
     "metadata": {},
     "output_type": "execute_result"
    }
   ],
   "source": [
    "# Look at class distributions\n",
    "combined_subs_df['target'].value_counts(normalize=True)"
   ]
  },
  {
   "cell_type": "code",
   "execution_count": 22,
   "metadata": {},
   "outputs": [
    {
     "data": {
      "image/png": "[encoded data removed]",
      "text/plain": [
       "<Figure size 720x432 with 1 Axes>"
      ]
     },
     "metadata": {
      "needs_background": "light"
     },
     "output_type": "display_data"
    }
   ],
   "source": [
    "# Plot a histogram of character counts\n",
    "minimal_mask = (combined_subs_df['target'] == 1)\n",
    "plt.figure(figsize=[10,6])\n",
    "plt.hist(\n",
    "    [combined_subs_df[minimal_mask]['num_title_chars'], combined_subs_df[~minimal_mask]['num_title_chars']],\n",
    "    bins = 30, color=['#287047', '#672941']\n",
    "        )\n",
    "\n",
    "plt.title('Title Character Counts')\n",
    "plt.legend(['Minimalism', 'Anticonsumption']);"
   ]
  },
  {
   "cell_type": "code",
   "execution_count": 23,
   "metadata": {},
   "outputs": [
    {
     "data": {
      "image/png": "[encoded data removed]",
      "text/plain": [
       "<Figure size 720x432 with 1 Axes>"
      ]
     },
     "metadata": {
      "needs_background": "light"
     },
     "output_type": "display_data"
    }
   ],
   "source": [
    "# Plot a histogram of character counts\n",
    "minimal_mask = (combined_subs_df['target'] == 1)\n",
    "plt.figure(figsize=[10,6])\n",
    "plt.hist(\n",
    "    [combined_subs_df[minimal_mask]['num_title_words'], combined_subs_df[~minimal_mask]['num_title_words']],\n",
    "    bins = 30, color=['#672941', '#287047']\n",
    "        )\n",
    "\n",
    "plt.title('Title Words Counts', fontsize=18)\n",
    "plt.legend(['Minimalism', 'Anticonsumption']);"
   ]
  },
  {
   "cell_type": "markdown",
   "metadata": {},
   "source": [
    "Average number of character are 57 and average number of words are 10. We are not dealing with too many words here and hopefully they are some useful keywords that help to identify my subreddits."
   ]
  },
  {
   "cell_type": "code",
   "execution_count": 24,
   "metadata": {},
   "outputs": [
    {
     "data": {
      "text/html": [
       "<div>\n",
       "<style scoped>\n",
       "    .dataframe tbody tr th:only-of-type {\n",
       "        vertical-align: middle;\n",
       "    }\n",
       "\n",
       "    .dataframe tbody tr th {\n",
       "        vertical-align: top;\n",
       "    }\n",
       "\n",
       "    .dataframe thead th {\n",
       "        text-align: right;\n",
       "    }\n",
       "</style>\n",
       "<table border=\"1\" class=\"dataframe\">\n",
       "  <thead>\n",
       "    <tr style=\"text-align: right;\">\n",
       "      <th></th>\n",
       "      <th>total_comments</th>\n",
       "      <th>total_upvotes</th>\n",
       "      <th>target</th>\n",
       "      <th>num_title_words</th>\n",
       "      <th>num_title_chars</th>\n",
       "    </tr>\n",
       "  </thead>\n",
       "  <tbody>\n",
       "    <tr>\n",
       "      <td>count</td>\n",
       "      <td>7009.000000</td>\n",
       "      <td>7009.000000</td>\n",
       "      <td>7009.000000</td>\n",
       "      <td>7009.000000</td>\n",
       "      <td>7009.000000</td>\n",
       "    </tr>\n",
       "    <tr>\n",
       "      <td>mean</td>\n",
       "      <td>26.307747</td>\n",
       "      <td>230.128977</td>\n",
       "      <td>0.527322</td>\n",
       "      <td>10.091311</td>\n",
       "      <td>58.270795</td>\n",
       "    </tr>\n",
       "    <tr>\n",
       "      <td>std</td>\n",
       "      <td>45.459945</td>\n",
       "      <td>566.463256</td>\n",
       "      <td>0.499289</td>\n",
       "      <td>8.386851</td>\n",
       "      <td>46.523899</td>\n",
       "    </tr>\n",
       "    <tr>\n",
       "      <td>min</td>\n",
       "      <td>0.000000</td>\n",
       "      <td>0.000000</td>\n",
       "      <td>0.000000</td>\n",
       "      <td>1.000000</td>\n",
       "      <td>1.000000</td>\n",
       "    </tr>\n",
       "    <tr>\n",
       "      <td>25%</td>\n",
       "      <td>4.000000</td>\n",
       "      <td>9.000000</td>\n",
       "      <td>0.000000</td>\n",
       "      <td>5.000000</td>\n",
       "      <td>28.000000</td>\n",
       "    </tr>\n",
       "    <tr>\n",
       "      <td>50%</td>\n",
       "      <td>11.000000</td>\n",
       "      <td>30.000000</td>\n",
       "      <td>1.000000</td>\n",
       "      <td>8.000000</td>\n",
       "      <td>47.000000</td>\n",
       "    </tr>\n",
       "    <tr>\n",
       "      <td>75%</td>\n",
       "      <td>29.000000</td>\n",
       "      <td>152.000000</td>\n",
       "      <td>1.000000</td>\n",
       "      <td>13.000000</td>\n",
       "      <td>74.000000</td>\n",
       "    </tr>\n",
       "    <tr>\n",
       "      <td>max</td>\n",
       "      <td>600.000000</td>\n",
       "      <td>6718.000000</td>\n",
       "      <td>1.000000</td>\n",
       "      <td>63.000000</td>\n",
       "      <td>300.000000</td>\n",
       "    </tr>\n",
       "  </tbody>\n",
       "</table>\n",
       "</div>"
      ],
      "text/plain": [
       "       total_comments  total_upvotes       target  num_title_words  \\\n",
       "count     7009.000000    7009.000000  7009.000000      7009.000000   \n",
       "mean        26.307747     230.128977     0.527322        10.091311   \n",
       "std         45.459945     566.463256     0.499289         8.386851   \n",
       "min          0.000000       0.000000     0.000000         1.000000   \n",
       "25%          4.000000       9.000000     0.000000         5.000000   \n",
       "50%         11.000000      30.000000     1.000000         8.000000   \n",
       "75%         29.000000     152.000000     1.000000        13.000000   \n",
       "max        600.000000    6718.000000     1.000000        63.000000   \n",
       "\n",
       "       num_title_chars  \n",
       "count      7009.000000  \n",
       "mean         58.270795  \n",
       "std          46.523899  \n",
       "min           1.000000  \n",
       "25%          28.000000  \n",
       "50%          47.000000  \n",
       "75%          74.000000  \n",
       "max         300.000000  "
      ]
     },
     "execution_count": 24,
     "metadata": {},
     "output_type": "execute_result"
    }
   ],
   "source": [
    "combined_subs_df.describe()"
   ]
  },
  {
   "cell_type": "markdown",
   "metadata": {},
   "source": [
    "- #### Word Cloud for 'Title'"
   ]
  },
  {
   "cell_type": "markdown",
   "metadata": {},
   "source": [
    "Before vectorizing title words, I will create word clouds for each subredit title to have a quick insight on identifying frequent words. Hopefully, the result will not be too dissapointing that I may want to question my subreddit selections.  \n",
    "\n",
    "Since the wordcloud library is looking for raw text as the input, I will use my raw, organic, untouched 'title' column."
   ]
  },
  {
   "cell_type": "markdown",
   "metadata": {},
   "source": [
    "- #### Count Vectorizer"
   ]
  },
  {
   "cell_type": "markdown",
   "metadata": {},
   "source": [
    "I will use CountVectorizer to quantify the text by counting the number of unique words in each observation. Then, turn each observation into a vector  and store in dataframe."
   ]
  },
  {
   "cell_type": "code",
   "execution_count": 25,
   "metadata": {},
   "outputs": [],
   "source": [
    "X = combined_subs_df['title']\n",
    "y = combined_subs_df['target']"
   ]
  },
  {
   "cell_type": "code",
   "execution_count": 26,
   "metadata": {},
   "outputs": [],
   "source": [
    "custom_stop = list(ENGLISH_STOP_WORDS)\n",
    "custom_stop.extend(['minimalism', 'minimalist', 'minimal', 'anticonsumption', 'consumption', 'life', 'good',\n",
    "                    'target', 'reddit', 'subreddit', 'http', 'www', '000', '10', '100', '11', '20', '2019', '24', '30'])"
   ]
  },
  {
   "cell_type": "code",
   "execution_count": 27,
   "metadata": {},
   "outputs": [
    {
     "data": {
      "text/html": [
       "<div>\n",
       "<style scoped>\n",
       "    .dataframe tbody tr th:only-of-type {\n",
       "        vertical-align: middle;\n",
       "    }\n",
       "\n",
       "    .dataframe tbody tr th {\n",
       "        vertical-align: top;\n",
       "    }\n",
       "\n",
       "    .dataframe thead th {\n",
       "        text-align: right;\n",
       "    }\n",
       "</style>\n",
       "<table border=\"1\" class=\"dataframe\">\n",
       "  <thead>\n",
       "    <tr style=\"text-align: right;\">\n",
       "      <th></th>\n",
       "      <th>01</th>\n",
       "      <th>02</th>\n",
       "      <th>04</th>\n",
       "      <th>04 17</th>\n",
       "      <th>05</th>\n",
       "      <th>09</th>\n",
       "      <th>104</th>\n",
       "      <th>104 weeks</th>\n",
       "      <th>114</th>\n",
       "      <th>114 hangers</th>\n",
       "      <th>...</th>\n",
       "      <th>young climate</th>\n",
       "      <th>youtube</th>\n",
       "      <th>youtube time</th>\n",
       "      <th>youtube videos</th>\n",
       "      <th>youtuber</th>\n",
       "      <th>youtuber pretentious</th>\n",
       "      <th>zero</th>\n",
       "      <th>zero waste</th>\n",
       "      <th>zerowaste</th>\n",
       "      <th>zerowaste responsible</th>\n",
       "    </tr>\n",
       "  </thead>\n",
       "  <tbody>\n",
       "    <tr>\n",
       "      <td>0</td>\n",
       "      <td>0</td>\n",
       "      <td>0</td>\n",
       "      <td>0</td>\n",
       "      <td>0</td>\n",
       "      <td>0</td>\n",
       "      <td>0</td>\n",
       "      <td>0</td>\n",
       "      <td>0</td>\n",
       "      <td>0</td>\n",
       "      <td>0</td>\n",
       "      <td>...</td>\n",
       "      <td>0</td>\n",
       "      <td>0</td>\n",
       "      <td>0</td>\n",
       "      <td>0</td>\n",
       "      <td>0</td>\n",
       "      <td>0</td>\n",
       "      <td>0</td>\n",
       "      <td>0</td>\n",
       "      <td>0</td>\n",
       "      <td>0</td>\n",
       "    </tr>\n",
       "    <tr>\n",
       "      <td>1</td>\n",
       "      <td>0</td>\n",
       "      <td>0</td>\n",
       "      <td>0</td>\n",
       "      <td>0</td>\n",
       "      <td>0</td>\n",
       "      <td>0</td>\n",
       "      <td>0</td>\n",
       "      <td>0</td>\n",
       "      <td>0</td>\n",
       "      <td>0</td>\n",
       "      <td>...</td>\n",
       "      <td>0</td>\n",
       "      <td>0</td>\n",
       "      <td>0</td>\n",
       "      <td>0</td>\n",
       "      <td>0</td>\n",
       "      <td>0</td>\n",
       "      <td>0</td>\n",
       "      <td>0</td>\n",
       "      <td>0</td>\n",
       "      <td>0</td>\n",
       "    </tr>\n",
       "    <tr>\n",
       "      <td>2</td>\n",
       "      <td>0</td>\n",
       "      <td>0</td>\n",
       "      <td>0</td>\n",
       "      <td>0</td>\n",
       "      <td>0</td>\n",
       "      <td>0</td>\n",
       "      <td>0</td>\n",
       "      <td>0</td>\n",
       "      <td>0</td>\n",
       "      <td>0</td>\n",
       "      <td>...</td>\n",
       "      <td>0</td>\n",
       "      <td>0</td>\n",
       "      <td>0</td>\n",
       "      <td>0</td>\n",
       "      <td>0</td>\n",
       "      <td>0</td>\n",
       "      <td>0</td>\n",
       "      <td>0</td>\n",
       "      <td>0</td>\n",
       "      <td>0</td>\n",
       "    </tr>\n",
       "    <tr>\n",
       "      <td>3</td>\n",
       "      <td>0</td>\n",
       "      <td>0</td>\n",
       "      <td>0</td>\n",
       "      <td>0</td>\n",
       "      <td>0</td>\n",
       "      <td>0</td>\n",
       "      <td>0</td>\n",
       "      <td>0</td>\n",
       "      <td>0</td>\n",
       "      <td>0</td>\n",
       "      <td>...</td>\n",
       "      <td>0</td>\n",
       "      <td>0</td>\n",
       "      <td>0</td>\n",
       "      <td>0</td>\n",
       "      <td>0</td>\n",
       "      <td>0</td>\n",
       "      <td>0</td>\n",
       "      <td>0</td>\n",
       "      <td>0</td>\n",
       "      <td>0</td>\n",
       "    </tr>\n",
       "    <tr>\n",
       "      <td>4</td>\n",
       "      <td>0</td>\n",
       "      <td>0</td>\n",
       "      <td>0</td>\n",
       "      <td>0</td>\n",
       "      <td>0</td>\n",
       "      <td>0</td>\n",
       "      <td>0</td>\n",
       "      <td>0</td>\n",
       "      <td>0</td>\n",
       "      <td>0</td>\n",
       "      <td>...</td>\n",
       "      <td>0</td>\n",
       "      <td>0</td>\n",
       "      <td>0</td>\n",
       "      <td>0</td>\n",
       "      <td>0</td>\n",
       "      <td>0</td>\n",
       "      <td>0</td>\n",
       "      <td>0</td>\n",
       "      <td>0</td>\n",
       "      <td>0</td>\n",
       "    </tr>\n",
       "  </tbody>\n",
       "</table>\n",
       "<p>5 rows × 4191 columns</p>\n",
       "</div>"
      ],
      "text/plain": [
       "   01  02  04  04 17  05  09  104  104 weeks  114  114 hangers  ...  \\\n",
       "0   0   0   0      0   0   0    0          0    0            0  ...   \n",
       "1   0   0   0      0   0   0    0          0    0            0  ...   \n",
       "2   0   0   0      0   0   0    0          0    0            0  ...   \n",
       "3   0   0   0      0   0   0    0          0    0            0  ...   \n",
       "4   0   0   0      0   0   0    0          0    0            0  ...   \n",
       "\n",
       "   young climate  youtube  youtube time  youtube videos  youtuber  \\\n",
       "0              0        0             0               0         0   \n",
       "1              0        0             0               0         0   \n",
       "2              0        0             0               0         0   \n",
       "3              0        0             0               0         0   \n",
       "4              0        0             0               0         0   \n",
       "\n",
       "   youtuber pretentious  zero  zero waste  zerowaste  zerowaste responsible  \n",
       "0                     0     0           0          0                      0  \n",
       "1                     0     0           0          0                      0  \n",
       "2                     0     0           0          0                      0  \n",
       "3                     0     0           0          0                      0  \n",
       "4                     0     0           0          0                      0  \n",
       "\n",
       "[5 rows x 4191 columns]"
      ]
     },
     "execution_count": 27,
     "metadata": {},
     "output_type": "execute_result"
    }
   ],
   "source": [
    "cvec = CountVectorizer(stop_words=custom_stop, ngram_range=(1,2), min_df = 5, max_df = .90)\n",
    "\n",
    "title_df = pd.DataFrame(\n",
    "    cvec.fit_transform(X).todense(),\n",
    "    columns=cvec.get_feature_names()\n",
    ")\n",
    "\n",
    "title_df.head()"
   ]
  },
  {
   "cell_type": "markdown",
   "metadata": {},
   "source": [
    "Create sub dataframes for each subreddit."
   ]
  },
  {
   "cell_type": "code",
   "execution_count": 28,
   "metadata": {},
   "outputs": [],
   "source": [
    "# add target column to title words dataframe\n",
    "title_df['target'] = y\n",
    "# title_df.insert(loc=-1, column='target', value=y)"
   ]
  },
  {
   "cell_type": "code",
   "execution_count": 29,
   "metadata": {},
   "outputs": [],
   "source": [
    "anticon = title_df[title_df['target'] == 1].copy()\n",
    "minimal = title_df[title_df['target'] == 0].copy()"
   ]
  },
  {
   "cell_type": "markdown",
   "metadata": {},
   "source": [
    "Check most frequent words in both subreddits."
   ]
  },
  {
   "cell_type": "code",
   "execution_count": 30,
   "metadata": {},
   "outputs": [
    {
     "data": {
      "text/plain": [
       "plastic    304\n",
       "just       301\n",
       "new        214\n",
       "things     212\n",
       "buy        211\n",
       "like       206\n",
       "don        202\n",
       "people     182\n",
       "buying     161\n",
       "use        150\n",
       "want       144\n",
       "stuff      138\n",
       "time       130\n",
       "make       124\n",
       "waste      123\n",
       "dtype: int64"
      ]
     },
     "execution_count": 30,
     "metadata": {},
     "output_type": "execute_result"
    }
   ],
   "source": [
    "title_df.iloc[:, :-1].sum().sort_values(ascending=False).head(15)"
   ]
  },
  {
   "cell_type": "code",
   "execution_count": 31,
   "metadata": {},
   "outputs": [
    {
     "data": {
      "image/png": "[encoded data removed]",
      "text/plain": [
       "<Figure size 720x576 with 1 Axes>"
      ]
     },
     "metadata": {
      "needs_background": "light"
     },
     "output_type": "display_data"
    }
   ],
   "source": [
    "top_30 = title_df.iloc[:, :-1].sum().sort_values(ascending=True).tail(30)\n",
    "plt.title('Top Thirty Words', fontsize=18)\n",
    "top_30.plot.barh(color='#0C2F39', figsize= (10,8));"
   ]
  },
  {
   "cell_type": "code",
   "execution_count": 32,
   "metadata": {},
   "outputs": [],
   "source": [
    "top_30_list = list(top_30.index)"
   ]
  },
  {
   "cell_type": "code",
   "execution_count": 33,
   "metadata": {},
   "outputs": [
    {
     "name": "stdout",
     "output_type": "stream",
     "text": [
      "['amazon', 'change', 'feel', 'really', 'rid', 'thread', 'work', 'room', 'money', 'help', 'climate', 'year', 'items', 'need', 'think', 'waste', 'make', 'time', 'stuff', 'want', 'use', 'buying', 'people', 'don', 'like', 'buy', 'things', 'new', 'just', 'plastic']\n"
     ]
    }
   ],
   "source": [
    "print(top_30_list)"
   ]
  },
  {
   "cell_type": "markdown",
   "metadata": {},
   "source": [
    "Top 30 most frequent words broken down by subreddit"
   ]
  },
  {
   "cell_type": "code",
   "execution_count": 34,
   "metadata": {},
   "outputs": [
    {
     "data": {
      "image/png": "[encoded data removed]",
      "text/plain": [
       "<Figure size 1080x576 with 2 Axes>"
      ]
     },
     "metadata": {
      "needs_background": "light"
     },
     "output_type": "display_data"
    }
   ],
   "source": [
    "fig, (ax1, ax2) = plt.subplots(ncols = 2, figsize = (15,8))\n",
    "\n",
    "anticon[top_30_list].sum().plot.barh(ax=ax1, color='#287047', title=('Anticonsumption'))\n",
    "minimal[top_30_list].sum().plot.barh(ax=ax2, color='#672941', title=('Minimalism'));"
   ]
  },
  {
   "cell_type": "code",
   "execution_count": 35,
   "metadata": {
    "scrolled": false
   },
   "outputs": [
    {
     "data": {
      "image/png": "[encoded data removed]",
      "text/plain": [
       "<Figure size 1296x720 with 1 Axes>"
      ]
     },
     "metadata": {
      "needs_background": "light"
     },
     "output_type": "display_data"
    }
   ],
   "source": [
    "fig, ax = plt.subplots(figsize = (18, 10))\n",
    "plt.title('Top 30 Words Comparison', fontsize=18)\n",
    "\n",
    "title_df.groupby('target').sum()[top_30_list].T.plot.bar(ax=ax, color=['#672941', '#287047']);\n",
    "plt.legend(['Minimalism', 'Anticonsumption']);"
   ]
  },
  {
   "cell_type": "markdown",
   "metadata": {},
   "source": [
    "#### Top Words vs Class Correlation"
   ]
  },
  {
   "cell_type": "code",
   "execution_count": 36,
   "metadata": {},
   "outputs": [
    {
     "data": {
      "image/png": "[encoded data removed]",
      "text/plain": [
       "<Figure size 432x720 with 2 Axes>"
      ]
     },
     "metadata": {
      "needs_background": "light"
     },
     "output_type": "display_data"
    }
   ],
   "source": [
    "# Create a heatmap of correlations\n",
    "\n",
    "corr = title_df[top_30_list].join(title_df['target']).corr()[['target']].sort_values('target', ascending=False)\n",
    "plt.figure(figsize=(6,10))\n",
    "cmap = sns.diverging_palette(150, 275, s=80, l=55, n=9, as_cmap=True)\n",
    "sns.heatmap(corr, annot=True, cmap=cmap);"
   ]
  },
  {
   "cell_type": "code",
   "execution_count": 37,
   "metadata": {},
   "outputs": [
    {
     "data": {
      "text/html": [
       "<div>\n",
       "<style scoped>\n",
       "    .dataframe tbody tr th:only-of-type {\n",
       "        vertical-align: middle;\n",
       "    }\n",
       "\n",
       "    .dataframe tbody tr th {\n",
       "        vertical-align: top;\n",
       "    }\n",
       "\n",
       "    .dataframe thead th {\n",
       "        text-align: right;\n",
       "    }\n",
       "</style>\n",
       "<table border=\"1\" class=\"dataframe\">\n",
       "  <thead>\n",
       "    <tr style=\"text-align: right;\">\n",
       "      <th></th>\n",
       "      <th>target</th>\n",
       "      <th>plastic</th>\n",
       "      <th>climate</th>\n",
       "      <th>waste</th>\n",
       "      <th>world</th>\n",
       "      <th>water</th>\n",
       "      <th>individually</th>\n",
       "      <th>wrapped</th>\n",
       "      <th>packaging</th>\n",
       "      <th>amazon</th>\n",
       "      <th>...</th>\n",
       "      <th>problem</th>\n",
       "      <th>ad</th>\n",
       "      <th>products</th>\n",
       "      <th>fossil fuel</th>\n",
       "      <th>fuel</th>\n",
       "      <th>literally</th>\n",
       "      <th>bottle</th>\n",
       "      <th>packed</th>\n",
       "      <th>apple</th>\n",
       "      <th>today</th>\n",
       "    </tr>\n",
       "  </thead>\n",
       "  <tbody>\n",
       "    <tr>\n",
       "      <td>target</td>\n",
       "      <td>1.0</td>\n",
       "      <td>0.163703</td>\n",
       "      <td>0.10297</td>\n",
       "      <td>0.102595</td>\n",
       "      <td>0.096071</td>\n",
       "      <td>0.095092</td>\n",
       "      <td>0.094404</td>\n",
       "      <td>0.09432</td>\n",
       "      <td>0.085729</td>\n",
       "      <td>0.084194</td>\n",
       "      <td>...</td>\n",
       "      <td>0.054909</td>\n",
       "      <td>0.054565</td>\n",
       "      <td>0.054363</td>\n",
       "      <td>0.054324</td>\n",
       "      <td>0.054324</td>\n",
       "      <td>0.054324</td>\n",
       "      <td>0.054324</td>\n",
       "      <td>0.054324</td>\n",
       "      <td>0.054263</td>\n",
       "      <td>0.054025</td>\n",
       "    </tr>\n",
       "  </tbody>\n",
       "</table>\n",
       "<p>1 rows × 50 columns</p>\n",
       "</div>"
      ],
      "text/plain": [
       "        target   plastic  climate     waste     world     water  individually  \\\n",
       "target     1.0  0.163703  0.10297  0.102595  0.096071  0.095092      0.094404   \n",
       "\n",
       "        wrapped  packaging    amazon  ...   problem        ad  products  \\\n",
       "target  0.09432   0.085729  0.084194  ...  0.054909  0.054565  0.054363   \n",
       "\n",
       "        fossil fuel      fuel  literally    bottle    packed     apple  \\\n",
       "target     0.054324  0.054324   0.054324  0.054324  0.054324  0.054263   \n",
       "\n",
       "           today  \n",
       "target  0.054025  \n",
       "\n",
       "[1 rows x 50 columns]"
      ]
     },
     "execution_count": 37,
     "metadata": {},
     "output_type": "execute_result"
    }
   ],
   "source": [
    "# Most positively correlated 50 words\n",
    "title_df.corr()[['target']].sort_values('target', ascending=False).head(50).T"
   ]
  },
  {
   "cell_type": "code",
   "execution_count": 38,
   "metadata": {},
   "outputs": [
    {
     "data": {
      "text/html": [
       "<div>\n",
       "<style scoped>\n",
       "    .dataframe tbody tr th:only-of-type {\n",
       "        vertical-align: middle;\n",
       "    }\n",
       "\n",
       "    .dataframe tbody tr th {\n",
       "        vertical-align: top;\n",
       "    }\n",
       "\n",
       "    .dataframe thead th {\n",
       "        text-align: right;\n",
       "    }\n",
       "</style>\n",
       "<table border=\"1\" class=\"dataframe\">\n",
       "  <thead>\n",
       "    <tr style=\"text-align: right;\">\n",
       "      <th></th>\n",
       "      <th>tips</th>\n",
       "      <th>september</th>\n",
       "      <th>thoughts</th>\n",
       "      <th>clothes</th>\n",
       "      <th>social</th>\n",
       "      <th>getting</th>\n",
       "      <th>minimalists</th>\n",
       "      <th>kitchen</th>\n",
       "      <th>collection</th>\n",
       "      <th>recommendations</th>\n",
       "      <th>...</th>\n",
       "      <th>monday</th>\n",
       "      <th>thread room</th>\n",
       "      <th>lifestyle</th>\n",
       "      <th>decluttering</th>\n",
       "      <th>clutter</th>\n",
       "      <th>room</th>\n",
       "      <th>thread</th>\n",
       "      <th>minimalistic</th>\n",
       "      <th>weekly</th>\n",
       "      <th>weekly thread</th>\n",
       "    </tr>\n",
       "  </thead>\n",
       "  <tbody>\n",
       "    <tr>\n",
       "      <td>target</td>\n",
       "      <td>-0.058596</td>\n",
       "      <td>-0.058771</td>\n",
       "      <td>-0.059791</td>\n",
       "      <td>-0.060629</td>\n",
       "      <td>-0.061404</td>\n",
       "      <td>-0.061781</td>\n",
       "      <td>-0.061912</td>\n",
       "      <td>-0.061912</td>\n",
       "      <td>-0.061912</td>\n",
       "      <td>-0.062663</td>\n",
       "      <td>...</td>\n",
       "      <td>-0.09564</td>\n",
       "      <td>-0.09564</td>\n",
       "      <td>-0.095703</td>\n",
       "      <td>-0.096482</td>\n",
       "      <td>-0.099645</td>\n",
       "      <td>-0.100564</td>\n",
       "      <td>-0.101437</td>\n",
       "      <td>-0.105317</td>\n",
       "      <td>-0.1191</td>\n",
       "      <td>-0.1191</td>\n",
       "    </tr>\n",
       "  </tbody>\n",
       "</table>\n",
       "<p>1 rows × 50 columns</p>\n",
       "</div>"
      ],
      "text/plain": [
       "            tips  september  thoughts   clothes    social   getting  \\\n",
       "target -0.058596  -0.058771 -0.059791 -0.060629 -0.061404 -0.061781   \n",
       "\n",
       "        minimalists   kitchen  collection  recommendations  ...   monday  \\\n",
       "target    -0.061912 -0.061912   -0.061912        -0.062663  ... -0.09564   \n",
       "\n",
       "        thread room  lifestyle  decluttering   clutter      room    thread  \\\n",
       "target     -0.09564  -0.095703     -0.096482 -0.099645 -0.100564 -0.101437   \n",
       "\n",
       "        minimalistic  weekly  weekly thread  \n",
       "target     -0.105317 -0.1191        -0.1191  \n",
       "\n",
       "[1 rows x 50 columns]"
      ]
     },
     "execution_count": 38,
     "metadata": {},
     "output_type": "execute_result"
    }
   ],
   "source": [
    "# Most negatively correlated 50 words\n",
    "title_df.corr()[['target']].sort_values('target', ascending=False).tail(50).T"
   ]
  },
  {
   "cell_type": "markdown",
   "metadata": {},
   "source": [
    "#### Word Counts"
   ]
  },
  {
   "cell_type": "markdown",
   "metadata": {},
   "source": [
    "Characters per sentence per subreddit."
   ]
  },
  {
   "cell_type": "code",
   "execution_count": 39,
   "metadata": {},
   "outputs": [
    {
     "data": {
      "text/html": [
       "<div>\n",
       "<style scoped>\n",
       "    .dataframe tbody tr th:only-of-type {\n",
       "        vertical-align: middle;\n",
       "    }\n",
       "\n",
       "    .dataframe tbody tr th {\n",
       "        vertical-align: top;\n",
       "    }\n",
       "\n",
       "    .dataframe thead th {\n",
       "        text-align: right;\n",
       "    }\n",
       "</style>\n",
       "<table border=\"1\" class=\"dataframe\">\n",
       "  <thead>\n",
       "    <tr style=\"text-align: right;\">\n",
       "      <th></th>\n",
       "      <th>01</th>\n",
       "      <th>02</th>\n",
       "      <th>04</th>\n",
       "      <th>04 17</th>\n",
       "      <th>05</th>\n",
       "      <th>09</th>\n",
       "      <th>104</th>\n",
       "      <th>104 weeks</th>\n",
       "      <th>114</th>\n",
       "      <th>114 hangers</th>\n",
       "      <th>...</th>\n",
       "      <th>youtube time</th>\n",
       "      <th>youtube videos</th>\n",
       "      <th>youtuber</th>\n",
       "      <th>youtuber pretentious</th>\n",
       "      <th>zero</th>\n",
       "      <th>zero waste</th>\n",
       "      <th>zerowaste</th>\n",
       "      <th>zerowaste responsible</th>\n",
       "      <th>target</th>\n",
       "      <th>num_title_words</th>\n",
       "    </tr>\n",
       "  </thead>\n",
       "  <tbody>\n",
       "    <tr>\n",
       "      <td>0</td>\n",
       "      <td>0</td>\n",
       "      <td>0</td>\n",
       "      <td>0</td>\n",
       "      <td>0</td>\n",
       "      <td>0</td>\n",
       "      <td>0</td>\n",
       "      <td>0</td>\n",
       "      <td>0</td>\n",
       "      <td>0</td>\n",
       "      <td>0</td>\n",
       "      <td>...</td>\n",
       "      <td>0</td>\n",
       "      <td>0</td>\n",
       "      <td>0</td>\n",
       "      <td>0</td>\n",
       "      <td>0</td>\n",
       "      <td>0</td>\n",
       "      <td>0</td>\n",
       "      <td>0</td>\n",
       "      <td>1</td>\n",
       "      <td>2</td>\n",
       "    </tr>\n",
       "    <tr>\n",
       "      <td>1</td>\n",
       "      <td>0</td>\n",
       "      <td>0</td>\n",
       "      <td>0</td>\n",
       "      <td>0</td>\n",
       "      <td>0</td>\n",
       "      <td>0</td>\n",
       "      <td>0</td>\n",
       "      <td>0</td>\n",
       "      <td>0</td>\n",
       "      <td>0</td>\n",
       "      <td>...</td>\n",
       "      <td>0</td>\n",
       "      <td>0</td>\n",
       "      <td>0</td>\n",
       "      <td>0</td>\n",
       "      <td>0</td>\n",
       "      <td>0</td>\n",
       "      <td>0</td>\n",
       "      <td>0</td>\n",
       "      <td>1</td>\n",
       "      <td>12</td>\n",
       "    </tr>\n",
       "    <tr>\n",
       "      <td>2</td>\n",
       "      <td>0</td>\n",
       "      <td>0</td>\n",
       "      <td>0</td>\n",
       "      <td>0</td>\n",
       "      <td>0</td>\n",
       "      <td>0</td>\n",
       "      <td>0</td>\n",
       "      <td>0</td>\n",
       "      <td>0</td>\n",
       "      <td>0</td>\n",
       "      <td>...</td>\n",
       "      <td>0</td>\n",
       "      <td>0</td>\n",
       "      <td>0</td>\n",
       "      <td>0</td>\n",
       "      <td>0</td>\n",
       "      <td>0</td>\n",
       "      <td>0</td>\n",
       "      <td>0</td>\n",
       "      <td>1</td>\n",
       "      <td>3</td>\n",
       "    </tr>\n",
       "    <tr>\n",
       "      <td>3</td>\n",
       "      <td>0</td>\n",
       "      <td>0</td>\n",
       "      <td>0</td>\n",
       "      <td>0</td>\n",
       "      <td>0</td>\n",
       "      <td>0</td>\n",
       "      <td>0</td>\n",
       "      <td>0</td>\n",
       "      <td>0</td>\n",
       "      <td>0</td>\n",
       "      <td>...</td>\n",
       "      <td>0</td>\n",
       "      <td>0</td>\n",
       "      <td>0</td>\n",
       "      <td>0</td>\n",
       "      <td>0</td>\n",
       "      <td>0</td>\n",
       "      <td>0</td>\n",
       "      <td>0</td>\n",
       "      <td>1</td>\n",
       "      <td>12</td>\n",
       "    </tr>\n",
       "    <tr>\n",
       "      <td>4</td>\n",
       "      <td>0</td>\n",
       "      <td>0</td>\n",
       "      <td>0</td>\n",
       "      <td>0</td>\n",
       "      <td>0</td>\n",
       "      <td>0</td>\n",
       "      <td>0</td>\n",
       "      <td>0</td>\n",
       "      <td>0</td>\n",
       "      <td>0</td>\n",
       "      <td>...</td>\n",
       "      <td>0</td>\n",
       "      <td>0</td>\n",
       "      <td>0</td>\n",
       "      <td>0</td>\n",
       "      <td>0</td>\n",
       "      <td>0</td>\n",
       "      <td>0</td>\n",
       "      <td>0</td>\n",
       "      <td>1</td>\n",
       "      <td>3</td>\n",
       "    </tr>\n",
       "  </tbody>\n",
       "</table>\n",
       "<p>5 rows × 4193 columns</p>\n",
       "</div>"
      ],
      "text/plain": [
       "   01  02  04  04 17  05  09  104  104 weeks  114  114 hangers  ...  \\\n",
       "0   0   0   0      0   0   0    0          0    0            0  ...   \n",
       "1   0   0   0      0   0   0    0          0    0            0  ...   \n",
       "2   0   0   0      0   0   0    0          0    0            0  ...   \n",
       "3   0   0   0      0   0   0    0          0    0            0  ...   \n",
       "4   0   0   0      0   0   0    0          0    0            0  ...   \n",
       "\n",
       "   youtube time  youtube videos  youtuber  youtuber pretentious  zero  \\\n",
       "0             0               0         0                     0     0   \n",
       "1             0               0         0                     0     0   \n",
       "2             0               0         0                     0     0   \n",
       "3             0               0         0                     0     0   \n",
       "4             0               0         0                     0     0   \n",
       "\n",
       "   zero waste  zerowaste  zerowaste responsible  target  num_title_words  \n",
       "0           0          0                      0       1                2  \n",
       "1           0          0                      0       1               12  \n",
       "2           0          0                      0       1                3  \n",
       "3           0          0                      0       1               12  \n",
       "4           0          0                      0       1                3  \n",
       "\n",
       "[5 rows x 4193 columns]"
      ]
     },
     "execution_count": 39,
     "metadata": {},
     "output_type": "execute_result"
    }
   ],
   "source": [
    "title_df['num_title_words'] = X.apply(lambda x: len(x.split(' ')))\n",
    "title_df.head()"
   ]
  },
  {
   "cell_type": "code",
   "execution_count": 40,
   "metadata": {},
   "outputs": [],
   "source": [
    "anticon_counts = title_df[title_df['target'] == 1]['num_title_words']\n",
    "minimal_counts = title_df[title_df['target'] == 0]['num_title_words']"
   ]
  },
  {
   "cell_type": "code",
   "execution_count": 41,
   "metadata": {},
   "outputs": [
    {
     "data": {
      "image/png": "[encoded data removed]",
      "text/plain": [
       "<Figure size 864x576 with 1 Axes>"
      ]
     },
     "metadata": {
      "needs_background": "light"
     },
     "output_type": "display_data"
    }
   ],
   "source": [
    "fig, ax = plt.subplots(figsize = (12,8))\n",
    "plt.title('Title Word Count Distribution', fontsize=18)\n",
    "sns.distplot(anticon_counts, ax=ax, color='#287047')\n",
    "sns.distplot(minimal_counts, ax=ax, color='#672941');"
   ]
  },
  {
   "cell_type": "markdown",
   "metadata": {},
   "source": [
    "### Sentiment Analysis"
   ]
  },
  {
   "cell_type": "code",
   "execution_count": 42,
   "metadata": {},
   "outputs": [],
   "source": [
    "# instantiate the sentiment analyzer\n",
    "sia = SentimentIntensityAnalyzer()"
   ]
  },
  {
   "cell_type": "code",
   "execution_count": 43,
   "metadata": {},
   "outputs": [],
   "source": [
    "# Write a function to get the compound sentiment scores for a post\n",
    "def get_compound(text):\n",
    "    return sia.polarity_scores(text)['compound']"
   ]
  },
  {
   "cell_type": "code",
   "execution_count": 44,
   "metadata": {},
   "outputs": [],
   "source": [
    "# apply the function to the entire subreddit dataframe\n",
    "combined_subs_df['sentiment'] = combined_subs_df['title'].apply(get_compound)"
   ]
  },
  {
   "cell_type": "code",
   "execution_count": 45,
   "metadata": {},
   "outputs": [
    {
     "data": {
      "text/plain": [
       "target\n",
       "0    0.067949\n",
       "1    0.005940\n",
       "Name: sentiment, dtype: float64"
      ]
     },
     "execution_count": 45,
     "metadata": {},
     "output_type": "execute_result"
    }
   ],
   "source": [
    "# look at the distribution of the composite sentiment score\n",
    "combined_subs_df.groupby('target')['sentiment'].mean()"
   ]
  },
  {
   "cell_type": "code",
   "execution_count": 46,
   "metadata": {},
   "outputs": [
    {
     "data": {
      "image/png": "[encoded data removed]",
      "text/plain": [
       "<Figure size 864x576 with 1 Axes>"
      ]
     },
     "metadata": {
      "needs_background": "light"
     },
     "output_type": "display_data"
    }
   ],
   "source": [
    "# Composite sentiment score histogram\n",
    "fig, ax = plt.subplots(figsize = (12, 8))\n",
    "plt.title('Composite Sentiments Scores Distribution', fontsize=18)\n",
    "\n",
    "combined_subs_df[combined_subs_df['target']==1]['sentiment'].hist(ax=ax, color='#287047', label='Anticonsumption', \n",
    "                                                                  bins=15, alpha=0.7, grid=False)\n",
    "combined_subs_df[combined_subs_df['target']==0]['sentiment'].hist(ax=ax, color='#672941', label='Minimalism', \n",
    "                                                                  bins=15, alpha=0.7, grid=False)\n",
    "ax.legend(loc='best');"
   ]
  },
  {
   "cell_type": "code",
   "execution_count": 47,
   "metadata": {},
   "outputs": [
    {
     "data": {
      "text/plain": [
       "-0.09537146782753166"
      ]
     },
     "execution_count": 47,
     "metadata": {},
     "output_type": "execute_result"
    }
   ],
   "source": [
    "# check correlation\n",
    "combined_subs_df['sentiment'].corr(combined_subs_df['target'])"
   ]
  },
  {
   "cell_type": "markdown",
   "metadata": {},
   "source": [
    "#### Upvotes Count"
   ]
  },
  {
   "cell_type": "code",
   "execution_count": 48,
   "metadata": {},
   "outputs": [
    {
     "data": {
      "image/png": "[encoded data removed]",
      "text/plain": [
       "<Figure size 864x576 with 1 Axes>"
      ]
     },
     "metadata": {
      "needs_background": "light"
     },
     "output_type": "display_data"
    }
   ],
   "source": [
    "# Composite sentiment score histogram\n",
    "fig, ax = plt.subplots(figsize = (12, 8))\n",
    "plt.title('Upvotes Count Distribution', fontsize=18)\n",
    "\n",
    "combined_subs_df[combined_subs_df['target']==1]['total_upvotes'].hist(ax=ax, color='#287047', label='Anticonsumption', \n",
    "                                                                  bins=15, alpha=0.7, grid=False)\n",
    "combined_subs_df[combined_subs_df['target']==0]['total_upvotes'].hist(ax=ax, color='#672941', label='Minimalism', \n",
    "                                                                  bins=15, alpha=0.7, grid=False)\n",
    "ax.legend(loc='best');"
   ]
  },
  {
   "cell_type": "code",
   "execution_count": 49,
   "metadata": {},
   "outputs": [
    {
     "data": {
      "text/plain": [
       "0.23316226320187347"
      ]
     },
     "execution_count": 49,
     "metadata": {},
     "output_type": "execute_result"
    }
   ],
   "source": [
    "# check correlation\n",
    "combined_subs_df['total_upvotes'].corr(combined_subs_df['target'])"
   ]
  },
  {
   "cell_type": "markdown",
   "metadata": {},
   "source": [
    "#### Comments Count"
   ]
  },
  {
   "cell_type": "code",
   "execution_count": 50,
   "metadata": {},
   "outputs": [
    {
     "data": {
      "image/png": "[encoded data removed]",
      "text/plain": [
       "<Figure size 864x576 with 1 Axes>"
      ]
     },
     "metadata": {
      "needs_background": "light"
     },
     "output_type": "display_data"
    }
   ],
   "source": [
    "# Composite sentiment score histogram\n",
    "fig, ax = plt.subplots(figsize = (12, 8))\n",
    "plt.title('Comments Count Distribution', fontsize=18)\n",
    "\n",
    "combined_subs_df[combined_subs_df['target']==1]['total_comments'].hist(ax=ax, color='#287047', label='Anticonsumption', \n",
    "                                                                  bins=15, alpha=0.7, grid=False)\n",
    "combined_subs_df[combined_subs_df['target']==0]['total_comments'].hist(ax=ax, color='#672941', label='Minimalism', \n",
    "                                                                  bins=15, alpha=0.7, grid=False)\n",
    "ax.legend(loc='best');"
   ]
  },
  {
   "cell_type": "code",
   "execution_count": 51,
   "metadata": {},
   "outputs": [
    {
     "data": {
      "text/plain": [
       "-0.019541908200513988"
      ]
     },
     "execution_count": 51,
     "metadata": {},
     "output_type": "execute_result"
    }
   ],
   "source": [
    "combined_subs_df['total_comments'].corr(combined_subs_df['target'])"
   ]
  },
  {
   "cell_type": "markdown",
   "metadata": {},
   "source": [
    "- #### Export the data"
   ]
  },
  {
   "cell_type": "code",
   "execution_count": 52,
   "metadata": {},
   "outputs": [],
   "source": [
    "combined_subs_df.fillna('thisisablankpost', inplace=True)"
   ]
  },
  {
   "cell_type": "code",
   "execution_count": 53,
   "metadata": {},
   "outputs": [],
   "source": [
    "combined_subs_df.to_csv('./csv_folder/combined_subreddits.csv', index=False)"
   ]
  }
 ],
 "metadata": {
  "kernelspec": {
   "display_name": "Python 3",
   "language": "python",
   "name": "python3"
  },
  "language_info": {
   "codemirror_mode": {
    "name": "ipython",
    "version": 3
   },
   "file_extension": ".py",
   "mimetype": "text/x-python",
   "name": "python",
   "nbconvert_exporter": "python",
   "pygments_lexer": "ipython3",
   "version": "3.7.4"
  }
 },
 "nbformat": 4,
 "nbformat_minor": 2
}
